{
  "nbformat": 4,
  "nbformat_minor": 0,
  "metadata": {
    "colab": {
      "name": "copa_america.ipynb",
      "provenance": [],
      "collapsed_sections": [],
      "authorship_tag": "ABX9TyMeLqbOWGQ3cU2H/UR2Fv9N",
      "include_colab_link": true
    },
    "kernelspec": {
      "name": "python3",
      "display_name": "Python 3"
    },
    "language_info": {
      "name": "python"
    }
  },
  "cells": [
    {
      "cell_type": "markdown",
      "metadata": {
        "id": "view-in-github",
        "colab_type": "text"
      },
      "source": [
        "<a href=\"https://colab.research.google.com/github/jmquintana/copa_america/blob/main/copa_america.ipynb\" target=\"_parent\"><img src=\"https://colab.research.google.com/assets/colab-badge.svg\" alt=\"Open In Colab\"/></a>"
      ]
    },
    {
      "cell_type": "code",
      "metadata": {
        "id": "fCGVacN5C4OM"
      },
      "source": [
        "# Importamos las librerías que vamos a necesitar\n",
        "import numpy as np\n",
        "import pandas as pd\n",
        "import matplotlib.pyplot as plt\n",
        "import matplotlib.ticker as ticker\n",
        "import seaborn as sns\n",
        "import random as rnd\n",
        "from collections import namedtuple\n",
        "from collections import Counter"
      ],
      "execution_count": 29,
      "outputs": []
    },
    {
      "cell_type": "code",
      "metadata": {
        "id": "3N_6Dgeu1Xc3"
      },
      "source": [
        "# Le doy formato a los gráficos\n",
        "sns.set_style(\"darkgrid\")\n",
        "plt.rc('font', size=10)\n",
        "plt.rc('axes', titlesize=16)\n",
        "plt.rc('figure', titlesize=16)\n",
        "plt.rc('axes', labelsize=14) \n",
        "plt.rc('xtick', labelsize=12) \n",
        "plt.rc('ytick', labelsize=12) "
      ],
      "execution_count": 30,
      "outputs": []
    },
    {
      "cell_type": "code",
      "metadata": {
        "colab": {
          "base_uri": "https://localhost:8080/",
          "height": 17
        },
        "id": "h1bNT_of73MR",
        "outputId": "245c5c97-c756-4dfe-f3f5-d362033aa54a"
      },
      "source": [
        "#Seteamos para que no utilice notacion cientifica\n",
        "pd.options.display.float_format = '{:.4f}'.format\n",
        "#Seteo para que el máximo de columnas que muestra al levantar una base sean 500\n",
        "pd.set_option('display.max_columns',500)\n",
        "#Estos códigos hacen que la visualización de la consola abarque toda la pantalla (sin los recortes a los costados). Tambien hacen que al mostrar dataframes podamos ver todas las columnas que tiene.\n",
        "from IPython.core.display import display, HTML\n",
        "display(HTML(\"<style>.container { width:100% !important; }</style>\"))\n",
        "# Codigo para poder imprimir multiples outputs en una misma línea\n",
        "# from IPython.core.interactiveshell import InteractiveShell\n",
        "# InteractiveShell.ast_node_interactivity = \"all\""
      ],
      "execution_count": 31,
      "outputs": [
        {
          "output_type": "display_data",
          "data": {
            "text/html": [
              "<style>.container { width:100% !important; }</style>"
            ],
            "text/plain": [
              "<IPython.core.display.HTML object>"
            ]
          },
          "metadata": {
            "tags": []
          }
        }
      ]
    },
    {
      "cell_type": "code",
      "metadata": {
        "id": "YL2eAd_tC4Oa",
        "colab": {
          "base_uri": "https://localhost:8080/"
        },
        "outputId": "ff94715a-885b-44d7-c25f-bd07d354b869"
      },
      "source": [
        "# Monto mi Google Drive para cargar el DataSet\n",
        "from google.colab import drive\n",
        "drive.mount('/content/drive')"
      ],
      "execution_count": 32,
      "outputs": [
        {
          "output_type": "stream",
          "text": [
            "Drive already mounted at /content/drive; to attempt to forcibly remount, call drive.mount(\"/content/drive\", force_remount=True).\n"
          ],
          "name": "stdout"
        }
      ]
    },
    {
      "cell_type": "code",
      "metadata": {
        "id": "CauRgMsgHUgE"
      },
      "source": [
        "# Cargo el DataSet con Pandas como un DataFrame nombrado \"df\"\n",
        "# Previamente debe descargarse del siguiente link: https://www.kaggle.com/ramnquintana/resultados-de-futbol-entre-1872-y-2017?select=results.csv\n",
        "df = pd.read_csv(\"/content/drive/MyDrive/Colab Notebooks/results.csv\")"
      ],
      "execution_count": 33,
      "outputs": []
    },
    {
      "cell_type": "code",
      "metadata": {
        "colab": {
          "base_uri": "https://localhost:8080/"
        },
        "id": "U7S9JoAktqiw",
        "outputId": "733568ad-7c4e-4636-b923-3ae1f928f7ea"
      },
      "source": [
        "print(\"Columnas:\",df.shape[1])\n",
        "print(\"Filas:\",df.shape[0])"
      ],
      "execution_count": 34,
      "outputs": [
        {
          "output_type": "stream",
          "text": [
            "Columnas: 9\n",
            "Filas: 41243\n"
          ],
          "name": "stdout"
        }
      ]
    },
    {
      "cell_type": "code",
      "metadata": {
        "colab": {
          "base_uri": "https://localhost:8080/",
          "height": 204
        },
        "id": "Uz6y4MByuKjS",
        "outputId": "9b39fd78-c032-494b-dc20-77d301197b5a"
      },
      "source": [
        "df.head()"
      ],
      "execution_count": 35,
      "outputs": [
        {
          "output_type": "execute_result",
          "data": {
            "text/html": [
              "<div>\n",
              "<style scoped>\n",
              "    .dataframe tbody tr th:only-of-type {\n",
              "        vertical-align: middle;\n",
              "    }\n",
              "\n",
              "    .dataframe tbody tr th {\n",
              "        vertical-align: top;\n",
              "    }\n",
              "\n",
              "    .dataframe thead th {\n",
              "        text-align: right;\n",
              "    }\n",
              "</style>\n",
              "<table border=\"1\" class=\"dataframe\">\n",
              "  <thead>\n",
              "    <tr style=\"text-align: right;\">\n",
              "      <th></th>\n",
              "      <th>date</th>\n",
              "      <th>home_team</th>\n",
              "      <th>away_team</th>\n",
              "      <th>home_score</th>\n",
              "      <th>away_score</th>\n",
              "      <th>tournament</th>\n",
              "      <th>city</th>\n",
              "      <th>country</th>\n",
              "      <th>neutral</th>\n",
              "    </tr>\n",
              "  </thead>\n",
              "  <tbody>\n",
              "    <tr>\n",
              "      <th>0</th>\n",
              "      <td>1872-11-30</td>\n",
              "      <td>Scotland</td>\n",
              "      <td>England</td>\n",
              "      <td>0</td>\n",
              "      <td>0</td>\n",
              "      <td>Friendly</td>\n",
              "      <td>Glasgow</td>\n",
              "      <td>Scotland</td>\n",
              "      <td>False</td>\n",
              "    </tr>\n",
              "    <tr>\n",
              "      <th>1</th>\n",
              "      <td>1873-03-08</td>\n",
              "      <td>England</td>\n",
              "      <td>Scotland</td>\n",
              "      <td>4</td>\n",
              "      <td>2</td>\n",
              "      <td>Friendly</td>\n",
              "      <td>London</td>\n",
              "      <td>England</td>\n",
              "      <td>False</td>\n",
              "    </tr>\n",
              "    <tr>\n",
              "      <th>2</th>\n",
              "      <td>1874-03-07</td>\n",
              "      <td>Scotland</td>\n",
              "      <td>England</td>\n",
              "      <td>2</td>\n",
              "      <td>1</td>\n",
              "      <td>Friendly</td>\n",
              "      <td>Glasgow</td>\n",
              "      <td>Scotland</td>\n",
              "      <td>False</td>\n",
              "    </tr>\n",
              "    <tr>\n",
              "      <th>3</th>\n",
              "      <td>1875-03-06</td>\n",
              "      <td>England</td>\n",
              "      <td>Scotland</td>\n",
              "      <td>2</td>\n",
              "      <td>2</td>\n",
              "      <td>Friendly</td>\n",
              "      <td>London</td>\n",
              "      <td>England</td>\n",
              "      <td>False</td>\n",
              "    </tr>\n",
              "    <tr>\n",
              "      <th>4</th>\n",
              "      <td>1876-03-04</td>\n",
              "      <td>Scotland</td>\n",
              "      <td>England</td>\n",
              "      <td>3</td>\n",
              "      <td>0</td>\n",
              "      <td>Friendly</td>\n",
              "      <td>Glasgow</td>\n",
              "      <td>Scotland</td>\n",
              "      <td>False</td>\n",
              "    </tr>\n",
              "  </tbody>\n",
              "</table>\n",
              "</div>"
            ],
            "text/plain": [
              "         date home_team away_team  home_score  away_score tournament     city  \\\n",
              "0  1872-11-30  Scotland   England           0           0   Friendly  Glasgow   \n",
              "1  1873-03-08   England  Scotland           4           2   Friendly   London   \n",
              "2  1874-03-07  Scotland   England           2           1   Friendly  Glasgow   \n",
              "3  1875-03-06   England  Scotland           2           2   Friendly   London   \n",
              "4  1876-03-04  Scotland   England           3           0   Friendly  Glasgow   \n",
              "\n",
              "    country  neutral  \n",
              "0  Scotland    False  \n",
              "1   England    False  \n",
              "2  Scotland    False  \n",
              "3   England    False  \n",
              "4  Scotland    False  "
            ]
          },
          "metadata": {
            "tags": []
          },
          "execution_count": 35
        }
      ]
    },
    {
      "cell_type": "code",
      "metadata": {
        "id": "tid7sU0xWMX_"
      },
      "source": [
        "# convert the 'Date' column to datetime format\n",
        "df['date'] = df['date'].astype('datetime64[ns]')"
      ],
      "execution_count": 36,
      "outputs": []
    },
    {
      "cell_type": "code",
      "metadata": {
        "colab": {
          "base_uri": "https://localhost:8080/"
        },
        "id": "t8HtFaCWU_Nc",
        "outputId": "afa7f7f1-4595-49c6-dc08-60a66d7addf8"
      },
      "source": [
        "df.dtypes"
      ],
      "execution_count": 37,
      "outputs": [
        {
          "output_type": "execute_result",
          "data": {
            "text/plain": [
              "date          datetime64[ns]\n",
              "home_team             object\n",
              "away_team             object\n",
              "home_score             int64\n",
              "away_score             int64\n",
              "tournament            object\n",
              "city                  object\n",
              "country               object\n",
              "neutral                 bool\n",
              "dtype: object"
            ]
          },
          "metadata": {
            "tags": []
          },
          "execution_count": 37
        }
      ]
    },
    {
      "cell_type": "code",
      "metadata": {
        "colab": {
          "base_uri": "https://localhost:8080/",
          "height": 204
        },
        "id": "4mvDvohmWQW4",
        "outputId": "08b0eb23-c562-40f4-dde1-a7936caef958"
      },
      "source": [
        "df.head()"
      ],
      "execution_count": 76,
      "outputs": [
        {
          "output_type": "execute_result",
          "data": {
            "text/html": [
              "<div>\n",
              "<style scoped>\n",
              "    .dataframe tbody tr th:only-of-type {\n",
              "        vertical-align: middle;\n",
              "    }\n",
              "\n",
              "    .dataframe tbody tr th {\n",
              "        vertical-align: top;\n",
              "    }\n",
              "\n",
              "    .dataframe thead th {\n",
              "        text-align: right;\n",
              "    }\n",
              "</style>\n",
              "<table border=\"1\" class=\"dataframe\">\n",
              "  <thead>\n",
              "    <tr style=\"text-align: right;\">\n",
              "      <th></th>\n",
              "      <th>date</th>\n",
              "      <th>home_team</th>\n",
              "      <th>away_team</th>\n",
              "      <th>home_score</th>\n",
              "      <th>away_score</th>\n",
              "      <th>tournament</th>\n",
              "      <th>city</th>\n",
              "      <th>country</th>\n",
              "      <th>neutral</th>\n",
              "    </tr>\n",
              "  </thead>\n",
              "  <tbody>\n",
              "    <tr>\n",
              "      <th>0</th>\n",
              "      <td>1872-11-30</td>\n",
              "      <td>Scotland</td>\n",
              "      <td>England</td>\n",
              "      <td>0</td>\n",
              "      <td>0</td>\n",
              "      <td>Friendly</td>\n",
              "      <td>Glasgow</td>\n",
              "      <td>Scotland</td>\n",
              "      <td>False</td>\n",
              "    </tr>\n",
              "    <tr>\n",
              "      <th>1</th>\n",
              "      <td>1873-03-08</td>\n",
              "      <td>England</td>\n",
              "      <td>Scotland</td>\n",
              "      <td>4</td>\n",
              "      <td>2</td>\n",
              "      <td>Friendly</td>\n",
              "      <td>London</td>\n",
              "      <td>England</td>\n",
              "      <td>False</td>\n",
              "    </tr>\n",
              "    <tr>\n",
              "      <th>2</th>\n",
              "      <td>1874-03-07</td>\n",
              "      <td>Scotland</td>\n",
              "      <td>England</td>\n",
              "      <td>2</td>\n",
              "      <td>1</td>\n",
              "      <td>Friendly</td>\n",
              "      <td>Glasgow</td>\n",
              "      <td>Scotland</td>\n",
              "      <td>False</td>\n",
              "    </tr>\n",
              "    <tr>\n",
              "      <th>3</th>\n",
              "      <td>1875-03-06</td>\n",
              "      <td>England</td>\n",
              "      <td>Scotland</td>\n",
              "      <td>2</td>\n",
              "      <td>2</td>\n",
              "      <td>Friendly</td>\n",
              "      <td>London</td>\n",
              "      <td>England</td>\n",
              "      <td>False</td>\n",
              "    </tr>\n",
              "    <tr>\n",
              "      <th>4</th>\n",
              "      <td>1876-03-04</td>\n",
              "      <td>Scotland</td>\n",
              "      <td>England</td>\n",
              "      <td>3</td>\n",
              "      <td>0</td>\n",
              "      <td>Friendly</td>\n",
              "      <td>Glasgow</td>\n",
              "      <td>Scotland</td>\n",
              "      <td>False</td>\n",
              "    </tr>\n",
              "  </tbody>\n",
              "</table>\n",
              "</div>"
            ],
            "text/plain": [
              "        date home_team away_team  home_score  away_score tournament     city  \\\n",
              "0 1872-11-30  Scotland   England           0           0   Friendly  Glasgow   \n",
              "1 1873-03-08   England  Scotland           4           2   Friendly   London   \n",
              "2 1874-03-07  Scotland   England           2           1   Friendly  Glasgow   \n",
              "3 1875-03-06   England  Scotland           2           2   Friendly   London   \n",
              "4 1876-03-04  Scotland   England           3           0   Friendly  Glasgow   \n",
              "\n",
              "    country  neutral  \n",
              "0  Scotland    False  \n",
              "1   England    False  \n",
              "2  Scotland    False  \n",
              "3   England    False  \n",
              "4  Scotland    False  "
            ]
          },
          "metadata": {
            "tags": []
          },
          "execution_count": 76
        }
      ]
    },
    {
      "cell_type": "code",
      "metadata": {
        "id": "2483AHD9YLru"
      },
      "source": [
        "teams = ['Argentina',\n",
        "          'Chile',\n",
        "          'Paraguay',\n",
        "          'Uruguay',\n",
        "          'Bolivia',\n",
        "          'Brazil',\n",
        "          'Colombia',\n",
        "          'Peru',\n",
        "          'Venezuela',\n",
        "          'Ecuador']"
      ],
      "execution_count": 77,
      "outputs": []
    },
    {
      "cell_type": "code",
      "metadata": {
        "id": "kT7Be7Av5hds"
      },
      "source": [
        "arpy = ['Argentina',\n",
        "        'Bolivia']"
      ],
      "execution_count": 78,
      "outputs": []
    },
    {
      "cell_type": "code",
      "metadata": {
        "id": "9BuKH-hS6FhD"
      },
      "source": [
        "df_ = df[df.home_team.isin(arpy) & df.away_team.isin(arpy)]"
      ],
      "execution_count": 79,
      "outputs": []
    },
    {
      "cell_type": "code",
      "metadata": {
        "colab": {
          "base_uri": "https://localhost:8080/",
          "height": 441
        },
        "id": "4B4C3GSD52Q4",
        "outputId": "13ed1b37-0590-42e0-8a10-54dc262d5c02"
      },
      "source": [
        "sns.countplot(data=df_, x='tournament')\n",
        "plt.xticks(rotation=90)\n",
        "plt.show()"
      ],
      "execution_count": 80,
      "outputs": [
        {
          "output_type": "display_data",
          "data": {
            "image/png": "[encoded data removed]",
            "text/plain": [
              "<Figure size 432x288 with 1 Axes>"
            ]
          },
          "metadata": {
            "tags": []
          }
        }
      ]
    },
    {
      "cell_type": "code",
      "metadata": {
        "colab": {
          "base_uri": "https://localhost:8080/",
          "height": 1000
        },
        "id": "qq9B4px15cqo",
        "outputId": "435c5a01-bf42-4ee7-f119-47d1c15323d4"
      },
      "source": [
        "# df_ = df_[df_.tournament == 'Copa América']\n",
        "print(df_.shape)\n",
        "df_"
      ],
      "execution_count": 81,
      "outputs": [
        {
          "output_type": "stream",
          "text": [
            "(35, 9)\n"
          ],
          "name": "stdout"
        },
        {
          "output_type": "execute_result",
          "data": {
            "text/html": [
              "<div>\n",
              "<style scoped>\n",
              "    .dataframe tbody tr th:only-of-type {\n",
              "        vertical-align: middle;\n",
              "    }\n",
              "\n",
              "    .dataframe tbody tr th {\n",
              "        vertical-align: top;\n",
              "    }\n",
              "\n",
              "    .dataframe thead th {\n",
              "        text-align: right;\n",
              "    }\n",
              "</style>\n",
              "<table border=\"1\" class=\"dataframe\">\n",
              "  <thead>\n",
              "    <tr style=\"text-align: right;\">\n",
              "      <th></th>\n",
              "      <th>date</th>\n",
              "      <th>home_team</th>\n",
              "      <th>away_team</th>\n",
              "      <th>home_score</th>\n",
              "      <th>away_score</th>\n",
              "      <th>tournament</th>\n",
              "      <th>city</th>\n",
              "      <th>country</th>\n",
              "      <th>neutral</th>\n",
              "    </tr>\n",
              "  </thead>\n",
              "  <tbody>\n",
              "    <tr>\n",
              "      <th>998</th>\n",
              "      <td>1926-10-16</td>\n",
              "      <td>Argentina</td>\n",
              "      <td>Bolivia</td>\n",
              "      <td>5</td>\n",
              "      <td>0</td>\n",
              "      <td>Copa América</td>\n",
              "      <td>Santiago</td>\n",
              "      <td>Chile</td>\n",
              "      <td>True</td>\n",
              "    </tr>\n",
              "    <tr>\n",
              "      <th>1082</th>\n",
              "      <td>1927-10-30</td>\n",
              "      <td>Argentina</td>\n",
              "      <td>Bolivia</td>\n",
              "      <td>7</td>\n",
              "      <td>1</td>\n",
              "      <td>Copa América</td>\n",
              "      <td>Lima</td>\n",
              "      <td>Peru</td>\n",
              "      <td>True</td>\n",
              "    </tr>\n",
              "    <tr>\n",
              "      <th>2490</th>\n",
              "      <td>1945-01-18</td>\n",
              "      <td>Argentina</td>\n",
              "      <td>Bolivia</td>\n",
              "      <td>4</td>\n",
              "      <td>0</td>\n",
              "      <td>Copa América</td>\n",
              "      <td>Santiago</td>\n",
              "      <td>Chile</td>\n",
              "      <td>True</td>\n",
              "    </tr>\n",
              "    <tr>\n",
              "      <th>2553</th>\n",
              "      <td>1946-01-19</td>\n",
              "      <td>Argentina</td>\n",
              "      <td>Bolivia</td>\n",
              "      <td>7</td>\n",
              "      <td>1</td>\n",
              "      <td>Copa América</td>\n",
              "      <td>Buenos Aires</td>\n",
              "      <td>Argentina</td>\n",
              "      <td>False</td>\n",
              "    </tr>\n",
              "    <tr>\n",
              "      <th>2749</th>\n",
              "      <td>1947-12-04</td>\n",
              "      <td>Argentina</td>\n",
              "      <td>Bolivia</td>\n",
              "      <td>7</td>\n",
              "      <td>0</td>\n",
              "      <td>Copa América</td>\n",
              "      <td>Guayaquil</td>\n",
              "      <td>Ecuador</td>\n",
              "      <td>True</td>\n",
              "    </tr>\n",
              "    <tr>\n",
              "      <th>4246</th>\n",
              "      <td>1957-10-06</td>\n",
              "      <td>Bolivia</td>\n",
              "      <td>Argentina</td>\n",
              "      <td>2</td>\n",
              "      <td>0</td>\n",
              "      <td>FIFA World Cup qualification</td>\n",
              "      <td>La Paz</td>\n",
              "      <td>Bolivia</td>\n",
              "      <td>False</td>\n",
              "    </tr>\n",
              "    <tr>\n",
              "      <th>4258</th>\n",
              "      <td>1957-10-27</td>\n",
              "      <td>Argentina</td>\n",
              "      <td>Bolivia</td>\n",
              "      <td>4</td>\n",
              "      <td>0</td>\n",
              "      <td>FIFA World Cup qualification</td>\n",
              "      <td>Avellaneda</td>\n",
              "      <td>Argentina</td>\n",
              "      <td>False</td>\n",
              "    </tr>\n",
              "    <tr>\n",
              "      <th>4468</th>\n",
              "      <td>1959-03-11</td>\n",
              "      <td>Argentina</td>\n",
              "      <td>Bolivia</td>\n",
              "      <td>2</td>\n",
              "      <td>0</td>\n",
              "      <td>Copa América</td>\n",
              "      <td>Buenos Aires</td>\n",
              "      <td>Argentina</td>\n",
              "      <td>False</td>\n",
              "    </tr>\n",
              "    <tr>\n",
              "      <th>5336</th>\n",
              "      <td>1963-03-28</td>\n",
              "      <td>Bolivia</td>\n",
              "      <td>Argentina</td>\n",
              "      <td>3</td>\n",
              "      <td>2</td>\n",
              "      <td>Copa América</td>\n",
              "      <td>La Paz</td>\n",
              "      <td>Bolivia</td>\n",
              "      <td>False</td>\n",
              "    </tr>\n",
              "    <tr>\n",
              "      <th>5920</th>\n",
              "      <td>1965-08-17</td>\n",
              "      <td>Argentina</td>\n",
              "      <td>Bolivia</td>\n",
              "      <td>4</td>\n",
              "      <td>1</td>\n",
              "      <td>FIFA World Cup qualification</td>\n",
              "      <td>Buenos Aires</td>\n",
              "      <td>Argentina</td>\n",
              "      <td>False</td>\n",
              "    </tr>\n",
              "    <tr>\n",
              "      <th>5940</th>\n",
              "      <td>1965-08-29</td>\n",
              "      <td>Bolivia</td>\n",
              "      <td>Argentina</td>\n",
              "      <td>1</td>\n",
              "      <td>2</td>\n",
              "      <td>FIFA World Cup qualification</td>\n",
              "      <td>La Paz</td>\n",
              "      <td>Bolivia</td>\n",
              "      <td>False</td>\n",
              "    </tr>\n",
              "    <tr>\n",
              "      <th>6382</th>\n",
              "      <td>1967-01-22</td>\n",
              "      <td>Bolivia</td>\n",
              "      <td>Argentina</td>\n",
              "      <td>0</td>\n",
              "      <td>1</td>\n",
              "      <td>Copa América</td>\n",
              "      <td>Montevideo</td>\n",
              "      <td>Uruguay</td>\n",
              "      <td>True</td>\n",
              "    </tr>\n",
              "    <tr>\n",
              "      <th>7143</th>\n",
              "      <td>1969-07-27</td>\n",
              "      <td>Bolivia</td>\n",
              "      <td>Argentina</td>\n",
              "      <td>3</td>\n",
              "      <td>1</td>\n",
              "      <td>FIFA World Cup qualification</td>\n",
              "      <td>La Paz</td>\n",
              "      <td>Bolivia</td>\n",
              "      <td>False</td>\n",
              "    </tr>\n",
              "    <tr>\n",
              "      <th>7180</th>\n",
              "      <td>1969-08-24</td>\n",
              "      <td>Argentina</td>\n",
              "      <td>Bolivia</td>\n",
              "      <td>1</td>\n",
              "      <td>0</td>\n",
              "      <td>FIFA World Cup qualification</td>\n",
              "      <td>Buenos Aires</td>\n",
              "      <td>Argentina</td>\n",
              "      <td>False</td>\n",
              "    </tr>\n",
              "    <tr>\n",
              "      <th>8722</th>\n",
              "      <td>1973-09-09</td>\n",
              "      <td>Argentina</td>\n",
              "      <td>Bolivia</td>\n",
              "      <td>4</td>\n",
              "      <td>0</td>\n",
              "      <td>FIFA World Cup qualification</td>\n",
              "      <td>Buenos Aires</td>\n",
              "      <td>Argentina</td>\n",
              "      <td>False</td>\n",
              "    </tr>\n",
              "    <tr>\n",
              "      <th>8730</th>\n",
              "      <td>1973-09-23</td>\n",
              "      <td>Bolivia</td>\n",
              "      <td>Argentina</td>\n",
              "      <td>0</td>\n",
              "      <td>1</td>\n",
              "      <td>FIFA World Cup qualification</td>\n",
              "      <td>La Paz</td>\n",
              "      <td>Bolivia</td>\n",
              "      <td>False</td>\n",
              "    </tr>\n",
              "    <tr>\n",
              "      <th>9360</th>\n",
              "      <td>1975-06-27</td>\n",
              "      <td>Bolivia</td>\n",
              "      <td>Argentina</td>\n",
              "      <td>1</td>\n",
              "      <td>2</td>\n",
              "      <td>Friendly</td>\n",
              "      <td>Cochabamba</td>\n",
              "      <td>Bolivia</td>\n",
              "      <td>False</td>\n",
              "    </tr>\n",
              "    <tr>\n",
              "      <th>10879</th>\n",
              "      <td>1979-07-18</td>\n",
              "      <td>Bolivia</td>\n",
              "      <td>Argentina</td>\n",
              "      <td>2</td>\n",
              "      <td>1</td>\n",
              "      <td>Copa América</td>\n",
              "      <td>La Paz</td>\n",
              "      <td>Bolivia</td>\n",
              "      <td>False</td>\n",
              "    </tr>\n",
              "    <tr>\n",
              "      <th>10909</th>\n",
              "      <td>1979-08-08</td>\n",
              "      <td>Argentina</td>\n",
              "      <td>Bolivia</td>\n",
              "      <td>3</td>\n",
              "      <td>0</td>\n",
              "      <td>Copa América</td>\n",
              "      <td>Buenos Aires</td>\n",
              "      <td>Argentina</td>\n",
              "      <td>False</td>\n",
              "    </tr>\n",
              "    <tr>\n",
              "      <th>15648</th>\n",
              "      <td>1989-07-10</td>\n",
              "      <td>Argentina</td>\n",
              "      <td>Bolivia</td>\n",
              "      <td>0</td>\n",
              "      <td>0</td>\n",
              "      <td>Copa América</td>\n",
              "      <td>Goiânia</td>\n",
              "      <td>Brazil</td>\n",
              "      <td>True</td>\n",
              "    </tr>\n",
              "    <tr>\n",
              "      <th>17785</th>\n",
              "      <td>1993-06-17</td>\n",
              "      <td>Argentina</td>\n",
              "      <td>Bolivia</td>\n",
              "      <td>1</td>\n",
              "      <td>0</td>\n",
              "      <td>Copa América</td>\n",
              "      <td>Guayaquil</td>\n",
              "      <td>Ecuador</td>\n",
              "      <td>True</td>\n",
              "    </tr>\n",
              "    <tr>\n",
              "      <th>18979</th>\n",
              "      <td>1995-07-08</td>\n",
              "      <td>Argentina</td>\n",
              "      <td>Bolivia</td>\n",
              "      <td>2</td>\n",
              "      <td>1</td>\n",
              "      <td>Copa América</td>\n",
              "      <td>Paysandú</td>\n",
              "      <td>Uruguay</td>\n",
              "      <td>True</td>\n",
              "    </tr>\n",
              "    <tr>\n",
              "      <th>19475</th>\n",
              "      <td>1996-04-24</td>\n",
              "      <td>Argentina</td>\n",
              "      <td>Bolivia</td>\n",
              "      <td>3</td>\n",
              "      <td>1</td>\n",
              "      <td>FIFA World Cup qualification</td>\n",
              "      <td>Buenos Aires</td>\n",
              "      <td>Argentina</td>\n",
              "      <td>False</td>\n",
              "    </tr>\n",
              "    <tr>\n",
              "      <th>20327</th>\n",
              "      <td>1997-04-02</td>\n",
              "      <td>Bolivia</td>\n",
              "      <td>Argentina</td>\n",
              "      <td>2</td>\n",
              "      <td>1</td>\n",
              "      <td>FIFA World Cup qualification</td>\n",
              "      <td>La Paz</td>\n",
              "      <td>Bolivia</td>\n",
              "      <td>False</td>\n",
              "    </tr>\n",
              "    <tr>\n",
              "      <th>22941</th>\n",
              "      <td>2000-06-04</td>\n",
              "      <td>Argentina</td>\n",
              "      <td>Bolivia</td>\n",
              "      <td>1</td>\n",
              "      <td>0</td>\n",
              "      <td>FIFA World Cup qualification</td>\n",
              "      <td>Buenos Aires</td>\n",
              "      <td>Argentina</td>\n",
              "      <td>False</td>\n",
              "    </tr>\n",
              "    <tr>\n",
              "      <th>23829</th>\n",
              "      <td>2001-04-25</td>\n",
              "      <td>Bolivia</td>\n",
              "      <td>Argentina</td>\n",
              "      <td>3</td>\n",
              "      <td>3</td>\n",
              "      <td>FIFA World Cup qualification</td>\n",
              "      <td>La Paz</td>\n",
              "      <td>Bolivia</td>\n",
              "      <td>False</td>\n",
              "    </tr>\n",
              "    <tr>\n",
              "      <th>26030</th>\n",
              "      <td>2003-11-15</td>\n",
              "      <td>Argentina</td>\n",
              "      <td>Bolivia</td>\n",
              "      <td>3</td>\n",
              "      <td>0</td>\n",
              "      <td>FIFA World Cup qualification</td>\n",
              "      <td>Buenos Aires</td>\n",
              "      <td>Argentina</td>\n",
              "      <td>False</td>\n",
              "    </tr>\n",
              "    <tr>\n",
              "      <th>27371</th>\n",
              "      <td>2005-03-26</td>\n",
              "      <td>Bolivia</td>\n",
              "      <td>Argentina</td>\n",
              "      <td>1</td>\n",
              "      <td>2</td>\n",
              "      <td>FIFA World Cup qualification</td>\n",
              "      <td>La Paz</td>\n",
              "      <td>Bolivia</td>\n",
              "      <td>False</td>\n",
              "    </tr>\n",
              "    <tr>\n",
              "      <th>29721</th>\n",
              "      <td>2007-11-17</td>\n",
              "      <td>Argentina</td>\n",
              "      <td>Bolivia</td>\n",
              "      <td>3</td>\n",
              "      <td>0</td>\n",
              "      <td>FIFA World Cup qualification</td>\n",
              "      <td>Buenos Aires</td>\n",
              "      <td>Argentina</td>\n",
              "      <td>False</td>\n",
              "    </tr>\n",
              "    <tr>\n",
              "      <th>33118</th>\n",
              "      <td>2011-07-01</td>\n",
              "      <td>Argentina</td>\n",
              "      <td>Bolivia</td>\n",
              "      <td>1</td>\n",
              "      <td>1</td>\n",
              "      <td>Copa América</td>\n",
              "      <td>La Plata</td>\n",
              "      <td>Argentina</td>\n",
              "      <td>False</td>\n",
              "    </tr>\n",
              "    <tr>\n",
              "      <th>33588</th>\n",
              "      <td>2011-11-11</td>\n",
              "      <td>Argentina</td>\n",
              "      <td>Bolivia</td>\n",
              "      <td>1</td>\n",
              "      <td>1</td>\n",
              "      <td>FIFA World Cup qualification</td>\n",
              "      <td>Buenos Aires</td>\n",
              "      <td>Argentina</td>\n",
              "      <td>False</td>\n",
              "    </tr>\n",
              "    <tr>\n",
              "      <th>35039</th>\n",
              "      <td>2013-03-26</td>\n",
              "      <td>Bolivia</td>\n",
              "      <td>Argentina</td>\n",
              "      <td>1</td>\n",
              "      <td>1</td>\n",
              "      <td>FIFA World Cup qualification</td>\n",
              "      <td>La Paz</td>\n",
              "      <td>Bolivia</td>\n",
              "      <td>False</td>\n",
              "    </tr>\n",
              "    <tr>\n",
              "      <th>37777</th>\n",
              "      <td>2016-03-29</td>\n",
              "      <td>Argentina</td>\n",
              "      <td>Bolivia</td>\n",
              "      <td>2</td>\n",
              "      <td>0</td>\n",
              "      <td>FIFA World Cup qualification</td>\n",
              "      <td>Córdoba</td>\n",
              "      <td>Argentina</td>\n",
              "      <td>False</td>\n",
              "    </tr>\n",
              "    <tr>\n",
              "      <th>38057</th>\n",
              "      <td>2016-06-14</td>\n",
              "      <td>Argentina</td>\n",
              "      <td>Bolivia</td>\n",
              "      <td>3</td>\n",
              "      <td>0</td>\n",
              "      <td>Copa América</td>\n",
              "      <td>Seattle</td>\n",
              "      <td>United States</td>\n",
              "      <td>True</td>\n",
              "    </tr>\n",
              "    <tr>\n",
              "      <th>38695</th>\n",
              "      <td>2017-03-28</td>\n",
              "      <td>Bolivia</td>\n",
              "      <td>Argentina</td>\n",
              "      <td>2</td>\n",
              "      <td>0</td>\n",
              "      <td>FIFA World Cup qualification</td>\n",
              "      <td>La Paz</td>\n",
              "      <td>Bolivia</td>\n",
              "      <td>False</td>\n",
              "    </tr>\n",
              "  </tbody>\n",
              "</table>\n",
              "</div>"
            ],
            "text/plain": [
              "            date  home_team  away_team  home_score  away_score  \\\n",
              "998   1926-10-16  Argentina    Bolivia           5           0   \n",
              "1082  1927-10-30  Argentina    Bolivia           7           1   \n",
              "2490  1945-01-18  Argentina    Bolivia           4           0   \n",
              "2553  1946-01-19  Argentina    Bolivia           7           1   \n",
              "2749  1947-12-04  Argentina    Bolivia           7           0   \n",
              "4246  1957-10-06    Bolivia  Argentina           2           0   \n",
              "4258  1957-10-27  Argentina    Bolivia           4           0   \n",
              "4468  1959-03-11  Argentina    Bolivia           2           0   \n",
              "5336  1963-03-28    Bolivia  Argentina           3           2   \n",
              "5920  1965-08-17  Argentina    Bolivia           4           1   \n",
              "5940  1965-08-29    Bolivia  Argentina           1           2   \n",
              "6382  1967-01-22    Bolivia  Argentina           0           1   \n",
              "7143  1969-07-27    Bolivia  Argentina           3           1   \n",
              "7180  1969-08-24  Argentina    Bolivia           1           0   \n",
              "8722  1973-09-09  Argentina    Bolivia           4           0   \n",
              "8730  1973-09-23    Bolivia  Argentina           0           1   \n",
              "9360  1975-06-27    Bolivia  Argentina           1           2   \n",
              "10879 1979-07-18    Bolivia  Argentina           2           1   \n",
              "10909 1979-08-08  Argentina    Bolivia           3           0   \n",
              "15648 1989-07-10  Argentina    Bolivia           0           0   \n",
              "17785 1993-06-17  Argentina    Bolivia           1           0   \n",
              "18979 1995-07-08  Argentina    Bolivia           2           1   \n",
              "19475 1996-04-24  Argentina    Bolivia           3           1   \n",
              "20327 1997-04-02    Bolivia  Argentina           2           1   \n",
              "22941 2000-06-04  Argentina    Bolivia           1           0   \n",
              "23829 2001-04-25    Bolivia  Argentina           3           3   \n",
              "26030 2003-11-15  Argentina    Bolivia           3           0   \n",
              "27371 2005-03-26    Bolivia  Argentina           1           2   \n",
              "29721 2007-11-17  Argentina    Bolivia           3           0   \n",
              "33118 2011-07-01  Argentina    Bolivia           1           1   \n",
              "33588 2011-11-11  Argentina    Bolivia           1           1   \n",
              "35039 2013-03-26    Bolivia  Argentina           1           1   \n",
              "37777 2016-03-29  Argentina    Bolivia           2           0   \n",
              "38057 2016-06-14  Argentina    Bolivia           3           0   \n",
              "38695 2017-03-28    Bolivia  Argentina           2           0   \n",
              "\n",
              "                         tournament          city        country  neutral  \n",
              "998                    Copa América      Santiago          Chile     True  \n",
              "1082                   Copa América          Lima           Peru     True  \n",
              "2490                   Copa América      Santiago          Chile     True  \n",
              "2553                   Copa América  Buenos Aires      Argentina    False  \n",
              "2749                   Copa América     Guayaquil        Ecuador     True  \n",
              "4246   FIFA World Cup qualification        La Paz        Bolivia    False  \n",
              "4258   FIFA World Cup qualification    Avellaneda      Argentina    False  \n",
              "4468                   Copa América  Buenos Aires      Argentina    False  \n",
              "5336                   Copa América        La Paz        Bolivia    False  \n",
              "5920   FIFA World Cup qualification  Buenos Aires      Argentina    False  \n",
              "5940   FIFA World Cup qualification        La Paz        Bolivia    False  \n",
              "6382                   Copa América    Montevideo        Uruguay     True  \n",
              "7143   FIFA World Cup qualification        La Paz        Bolivia    False  \n",
              "7180   FIFA World Cup qualification  Buenos Aires      Argentina    False  \n",
              "8722   FIFA World Cup qualification  Buenos Aires      Argentina    False  \n",
              "8730   FIFA World Cup qualification        La Paz        Bolivia    False  \n",
              "9360                       Friendly    Cochabamba        Bolivia    False  \n",
              "10879                  Copa América        La Paz        Bolivia    False  \n",
              "10909                  Copa América  Buenos Aires      Argentina    False  \n",
              "15648                  Copa América       Goiânia         Brazil     True  \n",
              "17785                  Copa América     Guayaquil        Ecuador     True  \n",
              "18979                  Copa América      Paysandú        Uruguay     True  \n",
              "19475  FIFA World Cup qualification  Buenos Aires      Argentina    False  \n",
              "20327  FIFA World Cup qualification        La Paz        Bolivia    False  \n",
              "22941  FIFA World Cup qualification  Buenos Aires      Argentina    False  \n",
              "23829  FIFA World Cup qualification        La Paz        Bolivia    False  \n",
              "26030  FIFA World Cup qualification  Buenos Aires      Argentina    False  \n",
              "27371  FIFA World Cup qualification        La Paz        Bolivia    False  \n",
              "29721  FIFA World Cup qualification  Buenos Aires      Argentina    False  \n",
              "33118                  Copa América      La Plata      Argentina    False  \n",
              "33588  FIFA World Cup qualification  Buenos Aires      Argentina    False  \n",
              "35039  FIFA World Cup qualification        La Paz        Bolivia    False  \n",
              "37777  FIFA World Cup qualification       Córdoba      Argentina    False  \n",
              "38057                  Copa América       Seattle  United States     True  \n",
              "38695  FIFA World Cup qualification        La Paz        Bolivia    False  "
            ]
          },
          "metadata": {
            "tags": []
          },
          "execution_count": 81
        }
      ]
    },
    {
      "cell_type": "code",
      "metadata": {
        "colab": {
          "base_uri": "https://localhost:8080/",
          "height": 204
        },
        "id": "hxYI8mWcYjEr",
        "outputId": "526bb58a-bc66-402f-9d07-472efaee66c9"
      },
      "source": [
        "df2 = df[df.date > '2010-01-01']\n",
        "df2 = df2[df2.home_team.isin(teams) & df2.away_team.isin(teams)]\n",
        "df2.head()"
      ],
      "execution_count": 82,
      "outputs": [
        {
          "output_type": "execute_result",
          "data": {
            "text/html": [
              "<div>\n",
              "<style scoped>\n",
              "    .dataframe tbody tr th:only-of-type {\n",
              "        vertical-align: middle;\n",
              "    }\n",
              "\n",
              "    .dataframe tbody tr th {\n",
              "        vertical-align: top;\n",
              "    }\n",
              "\n",
              "    .dataframe thead th {\n",
              "        text-align: right;\n",
              "    }\n",
              "</style>\n",
              "<table border=\"1\" class=\"dataframe\">\n",
              "  <thead>\n",
              "    <tr style=\"text-align: right;\">\n",
              "      <th></th>\n",
              "      <th>date</th>\n",
              "      <th>home_team</th>\n",
              "      <th>away_team</th>\n",
              "      <th>home_score</th>\n",
              "      <th>away_score</th>\n",
              "      <th>tournament</th>\n",
              "      <th>city</th>\n",
              "      <th>country</th>\n",
              "      <th>neutral</th>\n",
              "    </tr>\n",
              "  </thead>\n",
              "  <tbody>\n",
              "    <tr>\n",
              "      <th>31987</th>\n",
              "      <td>2010-03-31</td>\n",
              "      <td>Chile</td>\n",
              "      <td>Venezuela</td>\n",
              "      <td>0</td>\n",
              "      <td>0</td>\n",
              "      <td>Friendly</td>\n",
              "      <td>Temuco</td>\n",
              "      <td>Chile</td>\n",
              "      <td>False</td>\n",
              "    </tr>\n",
              "    <tr>\n",
              "      <th>32168</th>\n",
              "      <td>2010-06-28</td>\n",
              "      <td>Brazil</td>\n",
              "      <td>Chile</td>\n",
              "      <td>3</td>\n",
              "      <td>0</td>\n",
              "      <td>FIFA World Cup</td>\n",
              "      <td>Johannesburg</td>\n",
              "      <td>South Africa</td>\n",
              "      <td>True</td>\n",
              "    </tr>\n",
              "    <tr>\n",
              "      <th>32196</th>\n",
              "      <td>2010-08-11</td>\n",
              "      <td>Bolivia</td>\n",
              "      <td>Colombia</td>\n",
              "      <td>1</td>\n",
              "      <td>1</td>\n",
              "      <td>Friendly</td>\n",
              "      <td>La Paz</td>\n",
              "      <td>Bolivia</td>\n",
              "      <td>False</td>\n",
              "    </tr>\n",
              "    <tr>\n",
              "      <th>32277</th>\n",
              "      <td>2010-09-03</td>\n",
              "      <td>Venezuela</td>\n",
              "      <td>Colombia</td>\n",
              "      <td>0</td>\n",
              "      <td>2</td>\n",
              "      <td>Friendly</td>\n",
              "      <td>Puerto la Cruz</td>\n",
              "      <td>Venezuela</td>\n",
              "      <td>False</td>\n",
              "    </tr>\n",
              "    <tr>\n",
              "      <th>32343</th>\n",
              "      <td>2010-09-07</td>\n",
              "      <td>Venezuela</td>\n",
              "      <td>Ecuador</td>\n",
              "      <td>1</td>\n",
              "      <td>0</td>\n",
              "      <td>Friendly</td>\n",
              "      <td>Barquisimeto</td>\n",
              "      <td>Venezuela</td>\n",
              "      <td>False</td>\n",
              "    </tr>\n",
              "  </tbody>\n",
              "</table>\n",
              "</div>"
            ],
            "text/plain": [
              "            date  home_team  away_team  home_score  away_score  \\\n",
              "31987 2010-03-31      Chile  Venezuela           0           0   \n",
              "32168 2010-06-28     Brazil      Chile           3           0   \n",
              "32196 2010-08-11    Bolivia   Colombia           1           1   \n",
              "32277 2010-09-03  Venezuela   Colombia           0           2   \n",
              "32343 2010-09-07  Venezuela    Ecuador           1           0   \n",
              "\n",
              "           tournament            city       country  neutral  \n",
              "31987        Friendly          Temuco         Chile    False  \n",
              "32168  FIFA World Cup    Johannesburg  South Africa     True  \n",
              "32196        Friendly          La Paz       Bolivia    False  \n",
              "32277        Friendly  Puerto la Cruz     Venezuela    False  \n",
              "32343        Friendly    Barquisimeto     Venezuela    False  "
            ]
          },
          "metadata": {
            "tags": []
          },
          "execution_count": 82
        }
      ]
    },
    {
      "cell_type": "code",
      "metadata": {
        "colab": {
          "base_uri": "https://localhost:8080/",
          "height": 204
        },
        "id": "5ruYhrV4cL8k",
        "outputId": "65b345aa-e9cb-46ce-9849-3bca7a1e8092"
      },
      "source": [
        "df2_1 = df2[['date', 'home_team', 'home_score', 'away_score']].rename({'home_team':'team', 'home_score':'team_score', 'away_score':'opponent_score'}, axis=1)\n",
        "df2_2 = df2[['date', 'away_team', 'away_score', 'home_score']].rename({'away_team':'team', 'away_score':'team_score', 'home_score':'opponent_score'}, axis=1)\n",
        "df3 = df2_1.append(df2_2).sort_values('date').reset_index(drop=True)\n",
        "df3.head()"
      ],
      "execution_count": 83,
      "outputs": [
        {
          "output_type": "execute_result",
          "data": {
            "text/html": [
              "<div>\n",
              "<style scoped>\n",
              "    .dataframe tbody tr th:only-of-type {\n",
              "        vertical-align: middle;\n",
              "    }\n",
              "\n",
              "    .dataframe tbody tr th {\n",
              "        vertical-align: top;\n",
              "    }\n",
              "\n",
              "    .dataframe thead th {\n",
              "        text-align: right;\n",
              "    }\n",
              "</style>\n",
              "<table border=\"1\" class=\"dataframe\">\n",
              "  <thead>\n",
              "    <tr style=\"text-align: right;\">\n",
              "      <th></th>\n",
              "      <th>date</th>\n",
              "      <th>team</th>\n",
              "      <th>team_score</th>\n",
              "      <th>opponent_score</th>\n",
              "    </tr>\n",
              "  </thead>\n",
              "  <tbody>\n",
              "    <tr>\n",
              "      <th>0</th>\n",
              "      <td>2010-03-31</td>\n",
              "      <td>Chile</td>\n",
              "      <td>0</td>\n",
              "      <td>0</td>\n",
              "    </tr>\n",
              "    <tr>\n",
              "      <th>1</th>\n",
              "      <td>2010-03-31</td>\n",
              "      <td>Venezuela</td>\n",
              "      <td>0</td>\n",
              "      <td>0</td>\n",
              "    </tr>\n",
              "    <tr>\n",
              "      <th>2</th>\n",
              "      <td>2010-06-28</td>\n",
              "      <td>Brazil</td>\n",
              "      <td>3</td>\n",
              "      <td>0</td>\n",
              "    </tr>\n",
              "    <tr>\n",
              "      <th>3</th>\n",
              "      <td>2010-06-28</td>\n",
              "      <td>Chile</td>\n",
              "      <td>0</td>\n",
              "      <td>3</td>\n",
              "    </tr>\n",
              "    <tr>\n",
              "      <th>4</th>\n",
              "      <td>2010-08-11</td>\n",
              "      <td>Bolivia</td>\n",
              "      <td>1</td>\n",
              "      <td>1</td>\n",
              "    </tr>\n",
              "  </tbody>\n",
              "</table>\n",
              "</div>"
            ],
            "text/plain": [
              "        date       team  team_score  opponent_score\n",
              "0 2010-03-31      Chile           0               0\n",
              "1 2010-03-31  Venezuela           0               0\n",
              "2 2010-06-28     Brazil           3               0\n",
              "3 2010-06-28      Chile           0               3\n",
              "4 2010-08-11    Bolivia           1               1"
            ]
          },
          "metadata": {
            "tags": []
          },
          "execution_count": 83
        }
      ]
    },
    {
      "cell_type": "code",
      "metadata": {
        "id": "f_WiO8smg3-1"
      },
      "source": [
        "vs = ['Argentina', 'Brazil']\n",
        "df_vs = df3[df3.team.isin(vs)]\n",
        "df_ar = df3[df3.team == 'Argentina']\n",
        "df_br = df3[df3.team == 'Brazil']"
      ],
      "execution_count": 84,
      "outputs": []
    },
    {
      "cell_type": "code",
      "metadata": {
        "colab": {
          "base_uri": "https://localhost:8080/",
          "height": 286
        },
        "id": "zoIpLK_yeyQc",
        "outputId": "34231560-42e4-4d7a-9164-82e760e53dfa"
      },
      "source": [
        "sns.histplot(data=df_vs, x='team_score', discrete=True, stat=\"density\", hue='team')\n",
        "plt.show()"
      ],
      "execution_count": 93,
      "outputs": [
        {
          "output_type": "display_data",
          "data": {
            "image/png": "[encoded data removed]",
            "text/plain": [
              "<Figure size 432x288 with 1 Axes>"
            ]
          },
          "metadata": {
            "tags": []
          }
        }
      ]
    },
    {
      "cell_type": "code",
      "metadata": {
        "id": "wz2Ey6-Ol-gC"
      },
      "source": [
        "def gameSim(home_team, away_team):\n",
        "\n",
        "    df_home = df3[df3.team == home_team]\n",
        "    df_away = df3[df3.team == away_team]\n",
        "\n",
        "    # home_meanpts = df_home.team_score.mean()\n",
        "    # away_meanpts = df_away.team_score.mean()\n",
        "    # home_sdpts = df_home.team_score.std()\n",
        "    # away_sdpts = df_away.team_score.std()\n",
        "\n",
        "    # home_meanopp = df_home.opponent_score.mean()\n",
        "    # away_meanopp = df_away.opponent_score.mean()\n",
        "    # home_sdopp = df_home.opponent_score.std()\n",
        "    # away_sdopp = df_away.opponent_score.std()\n",
        "\n",
        "    # homeScore = int((rnd.gauss(home_meanpts,home_sdpts) + rnd.gauss(away_meanopp,away_sdopp))/2)\n",
        "    # awayScore = int((rnd.gauss(away_meanpts,away_sdpts) + rnd.gauss(home_meanopp,home_sdopp))/2)\n",
        "\n",
        "    homeScore = int(((rnd.choice(df_home.team_score.values) + rnd.choice(df_away.opponent_score.values))/2))\n",
        "    awayScore = int(((rnd.choice(df_away.team_score.values) + rnd.choice(df_home.opponent_score.values))/2))\n",
        "\n",
        "    if homeScore > awayScore:\n",
        "        return {'res': 1,\n",
        "                'homeScore': homeScore,\n",
        "                'awayScore': awayScore}\n",
        "    elif int(round(homeScore)) < int(round(awayScore)):\n",
        "        return {'res': -1,\n",
        "                'homeScore': homeScore,\n",
        "                'awayScore': awayScore}\n",
        "    else:\n",
        "        return {'res': 0,\n",
        "                'homeScore': homeScore,\n",
        "                'awayScore': awayScore}"
      ],
      "execution_count": 109,
      "outputs": []
    },
    {
      "cell_type": "code",
      "metadata": {
        "id": "AeS-gsbcm7J1"
      },
      "source": [
        "def gamesSim(home_team, away_team, ns, p=False):\n",
        "    gamesout = []\n",
        "    game_res = []\n",
        "    team1win = 0\n",
        "    team2win = 0\n",
        "    tie = 0\n",
        "    Result = namedtuple(\"Result\", \"homeScore awayScore\")\n",
        "    for i in range(ns):\n",
        "        game = gameSim(home_team, away_team)\n",
        "        gm = game['res']\n",
        "        gamesout.append(gm)\n",
        "        gr = Result(game['homeScore'], game['awayScore'])\n",
        "        game_res.append(gr)\n",
        "        if gm == 1:\n",
        "            team1win +=1 \n",
        "        elif gm == -1:\n",
        "            team2win +=1\n",
        "        else: tie +=1 \n",
        "    if p:\n",
        "        print(home_team + ' Win ', team1win/(team1win+team2win+tie)*100,'%')\n",
        "        print(away_team + ' Win ', team2win/(team1win+team2win+tie)*100,'%')\n",
        "        print('Tie ', tie/(team1win+team2win+tie)*100, '%')\n",
        "    frequency = Counter(game_res)\n",
        "    return frequency.most_common()\n",
        "    # return game_res"
      ],
      "execution_count": 87,
      "outputs": []
    },
    {
      "cell_type": "code",
      "metadata": {
        "colab": {
          "base_uri": "https://localhost:8080/"
        },
        "id": "Av3qs35AnOkT",
        "outputId": "631e73a4-42da-4895-d551-39c13c580107"
      },
      "source": [
        "gamesSim('Argentina', 'Paraguay', 1000)"
      ],
      "execution_count": 88,
      "outputs": [
        {
          "output_type": "execute_result",
          "data": {
            "text/plain": [
              "[(Result(homeScore=2, awayScore=0), 166),\n",
              " (Result(homeScore=2, awayScore=2), 130),\n",
              " (Result(homeScore=2, awayScore=1), 127),\n",
              " (Result(homeScore=0, awayScore=0), 97),\n",
              " (Result(homeScore=0, awayScore=1), 77),\n",
              " (Result(homeScore=1, awayScore=2), 76),\n",
              " (Result(homeScore=0, awayScore=2), 66),\n",
              " (Result(homeScore=1, awayScore=1), 65),\n",
              " (Result(homeScore=1, awayScore=0), 62),\n",
              " (Result(homeScore=4, awayScore=0), 26),\n",
              " (Result(homeScore=3, awayScore=0), 26),\n",
              " (Result(homeScore=3, awayScore=2), 21),\n",
              " (Result(homeScore=4, awayScore=2), 18),\n",
              " (Result(homeScore=3, awayScore=1), 18),\n",
              " (Result(homeScore=4, awayScore=1), 15),\n",
              " (Result(homeScore=2, awayScore=3), 2),\n",
              " (Result(homeScore=1, awayScore=3), 2),\n",
              " (Result(homeScore=2, awayScore=4), 2),\n",
              " (Result(homeScore=0, awayScore=3), 1),\n",
              " (Result(homeScore=5, awayScore=2), 1),\n",
              " (Result(homeScore=5, awayScore=1), 1),\n",
              " (Result(homeScore=5, awayScore=0), 1)]"
            ]
          },
          "metadata": {
            "tags": []
          },
          "execution_count": 88
        }
      ]
    },
    {
      "cell_type": "code",
      "metadata": {
        "colab": {
          "base_uri": "https://localhost:8080/"
        },
        "id": "BHKEUfzfW1PM",
        "outputId": "c10e1981-35d0-4b42-c739-1a0ce2106981"
      },
      "source": [
        "gamesSim('Argentina', 'Bolivia', 1000, True)"
      ],
      "execution_count": 89,
      "outputs": [
        {
          "output_type": "stream",
          "text": [
            "Argentina Win  59.9 %\n",
            "Bolivia Win  12.5 %\n",
            "Tie  27.6 %\n"
          ],
          "name": "stdout"
        },
        {
          "output_type": "execute_result",
          "data": {
            "text/plain": [
              "[(Result(homeScore=2, awayScore=0), 214),\n",
              " (Result(homeScore=2, awayScore=2), 154),\n",
              " (Result(homeScore=2, awayScore=1), 123),\n",
              " (Result(homeScore=1, awayScore=0), 77),\n",
              " (Result(homeScore=0, awayScore=0), 72),\n",
              " (Result(homeScore=1, awayScore=1), 50),\n",
              " (Result(homeScore=4, awayScore=0), 47),\n",
              " (Result(homeScore=3, awayScore=0), 45),\n",
              " (Result(homeScore=0, awayScore=2), 43),\n",
              " (Result(homeScore=1, awayScore=2), 38),\n",
              " (Result(homeScore=0, awayScore=1), 34),\n",
              " (Result(homeScore=4, awayScore=2), 24),\n",
              " (Result(homeScore=4, awayScore=1), 20),\n",
              " (Result(homeScore=3, awayScore=1), 19),\n",
              " (Result(homeScore=3, awayScore=2), 18),\n",
              " (Result(homeScore=2, awayScore=3), 4),\n",
              " (Result(homeScore=0, awayScore=3), 4),\n",
              " (Result(homeScore=4, awayScore=3), 3),\n",
              " (Result(homeScore=5, awayScore=2), 3),\n",
              " (Result(homeScore=6, awayScore=2), 2),\n",
              " (Result(homeScore=6, awayScore=0), 2),\n",
              " (Result(homeScore=5, awayScore=0), 2),\n",
              " (Result(homeScore=0, awayScore=4), 1),\n",
              " (Result(homeScore=1, awayScore=3), 1)]"
            ]
          },
          "metadata": {
            "tags": []
          },
          "execution_count": 89
        }
      ]
    },
    {
      "cell_type": "code",
      "metadata": {
        "colab": {
          "base_uri": "https://localhost:8080/"
        },
        "id": "Ty8dq_MaW9oV",
        "outputId": "62a3666e-3747-40fd-80b0-1ff215fe3822"
      },
      "source": [
        "gamesSim('Argentina', 'Peru', 100)"
      ],
      "execution_count": 110,
      "outputs": [
        {
          "output_type": "execute_result",
          "data": {
            "text/plain": [
              "[(Result(homeScore=1, awayScore=0), 22),\n",
              " (Result(homeScore=1, awayScore=1), 17),\n",
              " (Result(homeScore=2, awayScore=0), 9),\n",
              " (Result(homeScore=0, awayScore=1), 8),\n",
              " (Result(homeScore=1, awayScore=2), 8),\n",
              " (Result(homeScore=3, awayScore=1), 8),\n",
              " (Result(homeScore=2, awayScore=1), 7),\n",
              " (Result(homeScore=0, awayScore=0), 7),\n",
              " (Result(homeScore=0, awayScore=2), 5),\n",
              " (Result(homeScore=2, awayScore=2), 2),\n",
              " (Result(homeScore=1, awayScore=3), 2),\n",
              " (Result(homeScore=3, awayScore=2), 2),\n",
              " (Result(homeScore=3, awayScore=0), 2),\n",
              " (Result(homeScore=4, awayScore=0), 1)]"
            ]
          },
          "metadata": {
            "tags": []
          },
          "execution_count": 110
        }
      ]
    },
    {
      "cell_type": "code",
      "metadata": {
        "colab": {
          "base_uri": "https://localhost:8080/"
        },
        "id": "yRlFba3jXOAa",
        "outputId": "8d8391c1-b08b-4b1f-a15a-2925b351f0bd"
      },
      "source": [
        "gamesSim('Argentina', 'Brazil', 1)"
      ],
      "execution_count": 91,
      "outputs": [
        {
          "output_type": "execute_result",
          "data": {
            "text/plain": [
              "[(Result(homeScore=0, awayScore=2), 1)]"
            ]
          },
          "metadata": {
            "tags": []
          },
          "execution_count": 91
        }
      ]
    }
  ]
}