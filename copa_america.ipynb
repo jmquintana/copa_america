{
  "nbformat": 4,
  "nbformat_minor": 0,
  "metadata": {
    "colab": {
      "name": "copa_america.ipynb",
      "provenance": [],
      "collapsed_sections": [],
      "authorship_tag": "ABX9TyPKd/FAmSA/ky1QAzO80qei",
      "include_colab_link": true
    },
    "kernelspec": {
      "name": "python3",
      "display_name": "Python 3"
    },
    "language_info": {
      "name": "python"
    }
  },
  "cells": [
    {
      "cell_type": "markdown",
      "metadata": {
        "id": "view-in-github",
        "colab_type": "text"
      },
      "source": [
        "<a href=\"https://colab.research.google.com/github/jmquintana/copa_america/blob/main/copa_america.ipynb\" target=\"_parent\"><img src=\"https://colab.research.google.com/assets/colab-badge.svg\" alt=\"Open In Colab\"/></a>"
      ]
    },
    {
      "cell_type": "code",
      "metadata": {
        "id": "fCGVacN5C4OM"
      },
      "source": [
        "# Importamos las librerías que vamos a necesitar\n",
        "import numpy as np\n",
        "import pandas as pd\n",
        "import matplotlib.pyplot as plt\n",
        "import matplotlib.ticker as ticker\n",
        "import seaborn as sns\n",
        "import random as rnd"
      ],
      "execution_count": 92,
      "outputs": []
    },
    {
      "cell_type": "code",
      "metadata": {
        "id": "3N_6Dgeu1Xc3"
      },
      "source": [
        "# Le doy formato a los gráficos\n",
        "sns.set_style(\"darkgrid\")\n",
        "plt.rc('font', size=10)\n",
        "plt.rc('axes', titlesize=16)\n",
        "plt.rc('figure', titlesize=16)\n",
        "plt.rc('axes', labelsize=14) \n",
        "plt.rc('xtick', labelsize=12) \n",
        "plt.rc('ytick', labelsize=12) "
      ],
      "execution_count": 2,
      "outputs": []
    },
    {
      "cell_type": "code",
      "metadata": {
        "colab": {
          "base_uri": "https://localhost:8080/",
          "height": 17
        },
        "id": "h1bNT_of73MR",
        "outputId": "3f0761bb-4852-440f-d4c6-b3b3585c97c5"
      },
      "source": [
        "#Seteamos para que no utilice notacion cientifica\n",
        "pd.options.display.float_format = '{:.4f}'.format\n",
        "#Seteo para que el máximo de columnas que muestra al levantar una base sean 500\n",
        "pd.set_option('display.max_columns',500)\n",
        "#Estos códigos hacen que la visualización de la consola abarque toda la pantalla (sin los recortes a los costados). Tambien hacen que al mostrar dataframes podamos ver todas las columnas que tiene.\n",
        "from IPython.core.display import display, HTML\n",
        "display(HTML(\"<style>.container { width:100% !important; }</style>\"))\n",
        "# Codigo para poder imprimir multiples outputs en una misma línea\n",
        "# from IPython.core.interactiveshell import InteractiveShell\n",
        "# InteractiveShell.ast_node_interactivity = \"all\""
      ],
      "execution_count": 3,
      "outputs": [
        {
          "output_type": "display_data",
          "data": {
            "text/html": [
              "<style>.container { width:100% !important; }</style>"
            ],
            "text/plain": [
              "<IPython.core.display.HTML object>"
            ]
          },
          "metadata": {
            "tags": []
          }
        }
      ]
    },
    {
      "cell_type": "code",
      "metadata": {
        "id": "YL2eAd_tC4Oa",
        "colab": {
          "base_uri": "https://localhost:8080/"
        },
        "outputId": "497a7259-29d5-4a79-f9f5-acb4053b009b"
      },
      "source": [
        "# Monto mi Google Drive para cargar el DataSet\n",
        "from google.colab import drive\n",
        "drive.mount('/content/drive')"
      ],
      "execution_count": 4,
      "outputs": [
        {
          "output_type": "stream",
          "text": [
            "Mounted at /content/drive\n"
          ],
          "name": "stdout"
        }
      ]
    },
    {
      "cell_type": "code",
      "metadata": {
        "id": "CauRgMsgHUgE"
      },
      "source": [
        "# Cargo el DataSet con Pandas como un DataFrame nombrado \"df\"\n",
        "# Previamente debe descargarse del siguiente link: https://www.kaggle.com/ramnquintana/resultados-de-futbol-entre-1872-y-2017?select=results.csv\n",
        "df = pd.read_csv(\"/content/drive/MyDrive/Colab Notebooks/results.csv\")"
      ],
      "execution_count": 6,
      "outputs": []
    },
    {
      "cell_type": "code",
      "metadata": {
        "colab": {
          "base_uri": "https://localhost:8080/"
        },
        "id": "U7S9JoAktqiw",
        "outputId": "ed99a364-9c5b-4fff-828c-00ce525f638d"
      },
      "source": [
        "print(\"Columnas:\",df.shape[1])\n",
        "print(\"Filas:\",df.shape[0])"
      ],
      "execution_count": 7,
      "outputs": [
        {
          "output_type": "stream",
          "text": [
            "Columnas: 9\n",
            "Filas: 41243\n"
          ],
          "name": "stdout"
        }
      ]
    },
    {
      "cell_type": "code",
      "metadata": {
        "colab": {
          "base_uri": "https://localhost:8080/",
          "height": 204
        },
        "id": "Uz6y4MByuKjS",
        "outputId": "05cda665-27e3-4b5f-8e9a-5278056ef8d1"
      },
      "source": [
        "df.head()"
      ],
      "execution_count": 8,
      "outputs": [
        {
          "output_type": "execute_result",
          "data": {
            "text/html": [
              "<div>\n",
              "<style scoped>\n",
              "    .dataframe tbody tr th:only-of-type {\n",
              "        vertical-align: middle;\n",
              "    }\n",
              "\n",
              "    .dataframe tbody tr th {\n",
              "        vertical-align: top;\n",
              "    }\n",
              "\n",
              "    .dataframe thead th {\n",
              "        text-align: right;\n",
              "    }\n",
              "</style>\n",
              "<table border=\"1\" class=\"dataframe\">\n",
              "  <thead>\n",
              "    <tr style=\"text-align: right;\">\n",
              "      <th></th>\n",
              "      <th>date</th>\n",
              "      <th>home_team</th>\n",
              "      <th>away_team</th>\n",
              "      <th>home_score</th>\n",
              "      <th>away_score</th>\n",
              "      <th>tournament</th>\n",
              "      <th>city</th>\n",
              "      <th>country</th>\n",
              "      <th>neutral</th>\n",
              "    </tr>\n",
              "  </thead>\n",
              "  <tbody>\n",
              "    <tr>\n",
              "      <th>0</th>\n",
              "      <td>1872-11-30</td>\n",
              "      <td>Scotland</td>\n",
              "      <td>England</td>\n",
              "      <td>0</td>\n",
              "      <td>0</td>\n",
              "      <td>Friendly</td>\n",
              "      <td>Glasgow</td>\n",
              "      <td>Scotland</td>\n",
              "      <td>False</td>\n",
              "    </tr>\n",
              "    <tr>\n",
              "      <th>1</th>\n",
              "      <td>1873-03-08</td>\n",
              "      <td>England</td>\n",
              "      <td>Scotland</td>\n",
              "      <td>4</td>\n",
              "      <td>2</td>\n",
              "      <td>Friendly</td>\n",
              "      <td>London</td>\n",
              "      <td>England</td>\n",
              "      <td>False</td>\n",
              "    </tr>\n",
              "    <tr>\n",
              "      <th>2</th>\n",
              "      <td>1874-03-07</td>\n",
              "      <td>Scotland</td>\n",
              "      <td>England</td>\n",
              "      <td>2</td>\n",
              "      <td>1</td>\n",
              "      <td>Friendly</td>\n",
              "      <td>Glasgow</td>\n",
              "      <td>Scotland</td>\n",
              "      <td>False</td>\n",
              "    </tr>\n",
              "    <tr>\n",
              "      <th>3</th>\n",
              "      <td>1875-03-06</td>\n",
              "      <td>England</td>\n",
              "      <td>Scotland</td>\n",
              "      <td>2</td>\n",
              "      <td>2</td>\n",
              "      <td>Friendly</td>\n",
              "      <td>London</td>\n",
              "      <td>England</td>\n",
              "      <td>False</td>\n",
              "    </tr>\n",
              "    <tr>\n",
              "      <th>4</th>\n",
              "      <td>1876-03-04</td>\n",
              "      <td>Scotland</td>\n",
              "      <td>England</td>\n",
              "      <td>3</td>\n",
              "      <td>0</td>\n",
              "      <td>Friendly</td>\n",
              "      <td>Glasgow</td>\n",
              "      <td>Scotland</td>\n",
              "      <td>False</td>\n",
              "    </tr>\n",
              "  </tbody>\n",
              "</table>\n",
              "</div>"
            ],
            "text/plain": [
              "         date home_team away_team  home_score  away_score tournament     city  \\\n",
              "0  1872-11-30  Scotland   England           0           0   Friendly  Glasgow   \n",
              "1  1873-03-08   England  Scotland           4           2   Friendly   London   \n",
              "2  1874-03-07  Scotland   England           2           1   Friendly  Glasgow   \n",
              "3  1875-03-06   England  Scotland           2           2   Friendly   London   \n",
              "4  1876-03-04  Scotland   England           3           0   Friendly  Glasgow   \n",
              "\n",
              "    country  neutral  \n",
              "0  Scotland    False  \n",
              "1   England    False  \n",
              "2  Scotland    False  \n",
              "3   England    False  \n",
              "4  Scotland    False  "
            ]
          },
          "metadata": {
            "tags": []
          },
          "execution_count": 8
        }
      ]
    },
    {
      "cell_type": "code",
      "metadata": {
        "id": "tid7sU0xWMX_"
      },
      "source": [
        "# convert the 'Date' column to datetime format\n",
        "df['date'] = df['date'].astype('datetime64[ns]')"
      ],
      "execution_count": 18,
      "outputs": []
    },
    {
      "cell_type": "code",
      "metadata": {
        "colab": {
          "base_uri": "https://localhost:8080/"
        },
        "id": "t8HtFaCWU_Nc",
        "outputId": "30a149da-5938-4a10-d45d-afef90f27439"
      },
      "source": [
        "df.dtypes"
      ],
      "execution_count": 19,
      "outputs": [
        {
          "output_type": "execute_result",
          "data": {
            "text/plain": [
              "date          datetime64[ns]\n",
              "home_team             object\n",
              "away_team             object\n",
              "home_score             int64\n",
              "away_score             int64\n",
              "tournament            object\n",
              "city                  object\n",
              "country               object\n",
              "neutral                 bool\n",
              "dtype: object"
            ]
          },
          "metadata": {
            "tags": []
          },
          "execution_count": 19
        }
      ]
    },
    {
      "cell_type": "code",
      "metadata": {
        "colab": {
          "base_uri": "https://localhost:8080/",
          "height": 204
        },
        "id": "4mvDvohmWQW4",
        "outputId": "c62a13e7-efc0-489a-d545-adc271095638"
      },
      "source": [
        "df.head()"
      ],
      "execution_count": 20,
      "outputs": [
        {
          "output_type": "execute_result",
          "data": {
            "text/html": [
              "<div>\n",
              "<style scoped>\n",
              "    .dataframe tbody tr th:only-of-type {\n",
              "        vertical-align: middle;\n",
              "    }\n",
              "\n",
              "    .dataframe tbody tr th {\n",
              "        vertical-align: top;\n",
              "    }\n",
              "\n",
              "    .dataframe thead th {\n",
              "        text-align: right;\n",
              "    }\n",
              "</style>\n",
              "<table border=\"1\" class=\"dataframe\">\n",
              "  <thead>\n",
              "    <tr style=\"text-align: right;\">\n",
              "      <th></th>\n",
              "      <th>date</th>\n",
              "      <th>home_team</th>\n",
              "      <th>away_team</th>\n",
              "      <th>home_score</th>\n",
              "      <th>away_score</th>\n",
              "      <th>tournament</th>\n",
              "      <th>city</th>\n",
              "      <th>country</th>\n",
              "      <th>neutral</th>\n",
              "    </tr>\n",
              "  </thead>\n",
              "  <tbody>\n",
              "    <tr>\n",
              "      <th>0</th>\n",
              "      <td>1872-11-30</td>\n",
              "      <td>Scotland</td>\n",
              "      <td>England</td>\n",
              "      <td>0</td>\n",
              "      <td>0</td>\n",
              "      <td>Friendly</td>\n",
              "      <td>Glasgow</td>\n",
              "      <td>Scotland</td>\n",
              "      <td>False</td>\n",
              "    </tr>\n",
              "    <tr>\n",
              "      <th>1</th>\n",
              "      <td>1873-03-08</td>\n",
              "      <td>England</td>\n",
              "      <td>Scotland</td>\n",
              "      <td>4</td>\n",
              "      <td>2</td>\n",
              "      <td>Friendly</td>\n",
              "      <td>London</td>\n",
              "      <td>England</td>\n",
              "      <td>False</td>\n",
              "    </tr>\n",
              "    <tr>\n",
              "      <th>2</th>\n",
              "      <td>1874-03-07</td>\n",
              "      <td>Scotland</td>\n",
              "      <td>England</td>\n",
              "      <td>2</td>\n",
              "      <td>1</td>\n",
              "      <td>Friendly</td>\n",
              "      <td>Glasgow</td>\n",
              "      <td>Scotland</td>\n",
              "      <td>False</td>\n",
              "    </tr>\n",
              "    <tr>\n",
              "      <th>3</th>\n",
              "      <td>1875-03-06</td>\n",
              "      <td>England</td>\n",
              "      <td>Scotland</td>\n",
              "      <td>2</td>\n",
              "      <td>2</td>\n",
              "      <td>Friendly</td>\n",
              "      <td>London</td>\n",
              "      <td>England</td>\n",
              "      <td>False</td>\n",
              "    </tr>\n",
              "    <tr>\n",
              "      <th>4</th>\n",
              "      <td>1876-03-04</td>\n",
              "      <td>Scotland</td>\n",
              "      <td>England</td>\n",
              "      <td>3</td>\n",
              "      <td>0</td>\n",
              "      <td>Friendly</td>\n",
              "      <td>Glasgow</td>\n",
              "      <td>Scotland</td>\n",
              "      <td>False</td>\n",
              "    </tr>\n",
              "  </tbody>\n",
              "</table>\n",
              "</div>"
            ],
            "text/plain": [
              "        date home_team away_team  home_score  away_score tournament     city  \\\n",
              "0 1872-11-30  Scotland   England           0           0   Friendly  Glasgow   \n",
              "1 1873-03-08   England  Scotland           4           2   Friendly   London   \n",
              "2 1874-03-07  Scotland   England           2           1   Friendly  Glasgow   \n",
              "3 1875-03-06   England  Scotland           2           2   Friendly   London   \n",
              "4 1876-03-04  Scotland   England           3           0   Friendly  Glasgow   \n",
              "\n",
              "    country  neutral  \n",
              "0  Scotland    False  \n",
              "1   England    False  \n",
              "2  Scotland    False  \n",
              "3   England    False  \n",
              "4  Scotland    False  "
            ]
          },
          "metadata": {
            "tags": []
          },
          "execution_count": 20
        }
      ]
    },
    {
      "cell_type": "code",
      "metadata": {
        "id": "2483AHD9YLru"
      },
      "source": [
        "teams = ['Argentina',\n",
        "          'Chile',\n",
        "          'Paraguay',\n",
        "          'Uruguay',\n",
        "          'Bolivia',\n",
        "          'Brazil',\n",
        "          'Colombia',\n",
        "          'Peru',\n",
        "          'Venezuela',\n",
        "          'Ecuador']"
      ],
      "execution_count": 32,
      "outputs": []
    },
    {
      "cell_type": "code",
      "metadata": {
        "colab": {
          "base_uri": "https://localhost:8080/",
          "height": 204
        },
        "id": "hxYI8mWcYjEr",
        "outputId": "38b7d080-4d5c-41fb-b840-8c4fee71cda9"
      },
      "source": [
        "df2 = df[df.date > '2010-01-01']\n",
        "df2 = df2[df2.home_team.isin(teams) & df2.away_team.isin(teams)]\n",
        "df2.head()"
      ],
      "execution_count": 33,
      "outputs": [
        {
          "output_type": "execute_result",
          "data": {
            "text/html": [
              "<div>\n",
              "<style scoped>\n",
              "    .dataframe tbody tr th:only-of-type {\n",
              "        vertical-align: middle;\n",
              "    }\n",
              "\n",
              "    .dataframe tbody tr th {\n",
              "        vertical-align: top;\n",
              "    }\n",
              "\n",
              "    .dataframe thead th {\n",
              "        text-align: right;\n",
              "    }\n",
              "</style>\n",
              "<table border=\"1\" class=\"dataframe\">\n",
              "  <thead>\n",
              "    <tr style=\"text-align: right;\">\n",
              "      <th></th>\n",
              "      <th>date</th>\n",
              "      <th>home_team</th>\n",
              "      <th>away_team</th>\n",
              "      <th>home_score</th>\n",
              "      <th>away_score</th>\n",
              "      <th>tournament</th>\n",
              "      <th>city</th>\n",
              "      <th>country</th>\n",
              "      <th>neutral</th>\n",
              "    </tr>\n",
              "  </thead>\n",
              "  <tbody>\n",
              "    <tr>\n",
              "      <th>31987</th>\n",
              "      <td>2010-03-31</td>\n",
              "      <td>Chile</td>\n",
              "      <td>Venezuela</td>\n",
              "      <td>0</td>\n",
              "      <td>0</td>\n",
              "      <td>Friendly</td>\n",
              "      <td>Temuco</td>\n",
              "      <td>Chile</td>\n",
              "      <td>False</td>\n",
              "    </tr>\n",
              "    <tr>\n",
              "      <th>32168</th>\n",
              "      <td>2010-06-28</td>\n",
              "      <td>Brazil</td>\n",
              "      <td>Chile</td>\n",
              "      <td>3</td>\n",
              "      <td>0</td>\n",
              "      <td>FIFA World Cup</td>\n",
              "      <td>Johannesburg</td>\n",
              "      <td>South Africa</td>\n",
              "      <td>True</td>\n",
              "    </tr>\n",
              "    <tr>\n",
              "      <th>32196</th>\n",
              "      <td>2010-08-11</td>\n",
              "      <td>Bolivia</td>\n",
              "      <td>Colombia</td>\n",
              "      <td>1</td>\n",
              "      <td>1</td>\n",
              "      <td>Friendly</td>\n",
              "      <td>La Paz</td>\n",
              "      <td>Bolivia</td>\n",
              "      <td>False</td>\n",
              "    </tr>\n",
              "    <tr>\n",
              "      <th>32277</th>\n",
              "      <td>2010-09-03</td>\n",
              "      <td>Venezuela</td>\n",
              "      <td>Colombia</td>\n",
              "      <td>0</td>\n",
              "      <td>2</td>\n",
              "      <td>Friendly</td>\n",
              "      <td>Puerto la Cruz</td>\n",
              "      <td>Venezuela</td>\n",
              "      <td>False</td>\n",
              "    </tr>\n",
              "    <tr>\n",
              "      <th>32343</th>\n",
              "      <td>2010-09-07</td>\n",
              "      <td>Venezuela</td>\n",
              "      <td>Ecuador</td>\n",
              "      <td>1</td>\n",
              "      <td>0</td>\n",
              "      <td>Friendly</td>\n",
              "      <td>Barquisimeto</td>\n",
              "      <td>Venezuela</td>\n",
              "      <td>False</td>\n",
              "    </tr>\n",
              "  </tbody>\n",
              "</table>\n",
              "</div>"
            ],
            "text/plain": [
              "            date  home_team  away_team  home_score  away_score  \\\n",
              "31987 2010-03-31      Chile  Venezuela           0           0   \n",
              "32168 2010-06-28     Brazil      Chile           3           0   \n",
              "32196 2010-08-11    Bolivia   Colombia           1           1   \n",
              "32277 2010-09-03  Venezuela   Colombia           0           2   \n",
              "32343 2010-09-07  Venezuela    Ecuador           1           0   \n",
              "\n",
              "           tournament            city       country  neutral  \n",
              "31987        Friendly          Temuco         Chile    False  \n",
              "32168  FIFA World Cup    Johannesburg  South Africa     True  \n",
              "32196        Friendly          La Paz       Bolivia    False  \n",
              "32277        Friendly  Puerto la Cruz     Venezuela    False  \n",
              "32343        Friendly    Barquisimeto     Venezuela    False  "
            ]
          },
          "metadata": {
            "tags": []
          },
          "execution_count": 33
        }
      ]
    },
    {
      "cell_type": "code",
      "metadata": {
        "colab": {
          "base_uri": "https://localhost:8080/",
          "height": 204
        },
        "id": "5ruYhrV4cL8k",
        "outputId": "bdfd6c3d-d644-4ac1-aa56-735a891091f5"
      },
      "source": [
        "df2_1 = df2[['date', 'home_team', 'home_score', 'away_score']].rename({'home_team':'team', 'home_score':'team_score', 'away_score':'opponent_score'}, axis=1)\n",
        "df2_2 = df2[['date', 'away_team', 'away_score', 'home_score']].rename({'away_team':'team', 'away_score':'team_score', 'home_score':'opponent_score'}, axis=1)\n",
        "df3 = df2_1.append(df2_2).sort_values('date').reset_index(drop=True)\n",
        "df3.head()"
      ],
      "execution_count": 43,
      "outputs": [
        {
          "output_type": "execute_result",
          "data": {
            "text/html": [
              "<div>\n",
              "<style scoped>\n",
              "    .dataframe tbody tr th:only-of-type {\n",
              "        vertical-align: middle;\n",
              "    }\n",
              "\n",
              "    .dataframe tbody tr th {\n",
              "        vertical-align: top;\n",
              "    }\n",
              "\n",
              "    .dataframe thead th {\n",
              "        text-align: right;\n",
              "    }\n",
              "</style>\n",
              "<table border=\"1\" class=\"dataframe\">\n",
              "  <thead>\n",
              "    <tr style=\"text-align: right;\">\n",
              "      <th></th>\n",
              "      <th>date</th>\n",
              "      <th>team</th>\n",
              "      <th>team_score</th>\n",
              "      <th>opponent_score</th>\n",
              "    </tr>\n",
              "  </thead>\n",
              "  <tbody>\n",
              "    <tr>\n",
              "      <th>0</th>\n",
              "      <td>2010-03-31</td>\n",
              "      <td>Chile</td>\n",
              "      <td>0</td>\n",
              "      <td>0</td>\n",
              "    </tr>\n",
              "    <tr>\n",
              "      <th>1</th>\n",
              "      <td>2010-03-31</td>\n",
              "      <td>Venezuela</td>\n",
              "      <td>0</td>\n",
              "      <td>0</td>\n",
              "    </tr>\n",
              "    <tr>\n",
              "      <th>2</th>\n",
              "      <td>2010-06-28</td>\n",
              "      <td>Brazil</td>\n",
              "      <td>3</td>\n",
              "      <td>0</td>\n",
              "    </tr>\n",
              "    <tr>\n",
              "      <th>3</th>\n",
              "      <td>2010-06-28</td>\n",
              "      <td>Chile</td>\n",
              "      <td>0</td>\n",
              "      <td>3</td>\n",
              "    </tr>\n",
              "    <tr>\n",
              "      <th>4</th>\n",
              "      <td>2010-08-11</td>\n",
              "      <td>Bolivia</td>\n",
              "      <td>1</td>\n",
              "      <td>1</td>\n",
              "    </tr>\n",
              "  </tbody>\n",
              "</table>\n",
              "</div>"
            ],
            "text/plain": [
              "        date       team  team_score  opponent_score\n",
              "0 2010-03-31      Chile           0               0\n",
              "1 2010-03-31  Venezuela           0               0\n",
              "2 2010-06-28     Brazil           3               0\n",
              "3 2010-06-28      Chile           0               3\n",
              "4 2010-08-11    Bolivia           1               1"
            ]
          },
          "metadata": {
            "tags": []
          },
          "execution_count": 43
        }
      ]
    },
    {
      "cell_type": "code",
      "metadata": {
        "id": "f_WiO8smg3-1"
      },
      "source": [
        "vs = ['Argentina', 'Brazil']\n",
        "df_vs = df3[df3.team.isin(vs)]\n",
        "df_ar = df3[df3.team == 'Argentina']\n",
        "df_br = df3[df3.team == 'Brazil']"
      ],
      "execution_count": 81,
      "outputs": []
    },
    {
      "cell_type": "code",
      "metadata": {
        "colab": {
          "base_uri": "https://localhost:8080/",
          "height": 286
        },
        "id": "zoIpLK_yeyQc",
        "outputId": "47c95897-6fca-4810-ee5e-bae3d7e4a4d3"
      },
      "source": [
        "sns.histplot(data=df_vs, x='team_score', discrete=True, stat=\"density\", hue='team')\n",
        "plt.xticks([0,1,2,3,4,5,6])\n",
        "plt.show()"
      ],
      "execution_count": 80,
      "outputs": [
        {
          "output_type": "display_data",
          "data": {
            "image/png": "[encoded data removed]",
            "text/plain": [
              "<Figure size 432x288 with 1 Axes>"
            ]
          },
          "metadata": {
            "tags": []
          }
        }
      ]
    },
    {
      "cell_type": "code",
      "metadata": {
        "id": "7NSGVssmk-5a"
      },
      "source": [
        "ar_meanpts = df_ar.team_score.mean()\n",
        "br_meanpts = df_br.team_score.mean()\n",
        "ar_sdpts = df_ar.team_score.std()\n",
        "br_sdpts = df_br.team_score.std()\n",
        "\n",
        "ar_meanopp = df_ar.opponent_score.mean()\n",
        "br_meanopp = df_br.opponent_score.mean()\n",
        "ar_sdopp = df_ar.opponent_score.std()\n",
        "br_sdopp = df_br.opponent_score.std()"
      ],
      "execution_count": 89,
      "outputs": []
    },
    {
      "cell_type": "code",
      "metadata": {
        "id": "wz2Ey6-Ol-gC"
      },
      "source": [
        "def gameSim():\n",
        "    ARScore = (rnd.gauss(ar_meanpts,ar_sdpts)+ rnd.gauss(br_meanopp,br_sdopp))/2\n",
        "    BRScore = (rnd.gauss(br_meanpts,br_sdpts)+ rnd.gauss(ar_meanopp,ar_sdopp))/2\n",
        "    if int(round(ARScore)) > int(round(BRScore)):\n",
        "        return 1\n",
        "    elif int(round(ARScore)) < int(round(BRScore)):\n",
        "        return -1\n",
        "    else: return 0"
      ],
      "execution_count": 90,
      "outputs": []
    },
    {
      "cell_type": "code",
      "metadata": {
        "id": "AeS-gsbcm7J1"
      },
      "source": [
        "def gamesSim(ns):\n",
        "    gamesout = []\n",
        "    team1win = 0\n",
        "    team2win = 0\n",
        "    tie = 0\n",
        "    for i in range(ns):\n",
        "        gm = gameSim()\n",
        "        gamesout.append(gm)\n",
        "        if gm == 1:\n",
        "            team1win +=1 \n",
        "        elif gm == -1:\n",
        "            team2win +=1\n",
        "        else: tie +=1 \n",
        "    print('AR Win ', team1win/(team1win+team2win+tie),'%')\n",
        "    print('BR Win ', team2win/(team1win+team2win+tie),'%')\n",
        "    print('Tie ', tie/(team1win+team2win+tie), '%')\n",
        "    return"
      ],
      "execution_count": 103,
      "outputs": []
    },
    {
      "cell_type": "code",
      "metadata": {
        "colab": {
          "base_uri": "https://localhost:8080/"
        },
        "id": "Av3qs35AnOkT",
        "outputId": "e3a3c36d-e523-47b7-b852-aec528923ea0"
      },
      "source": [
        "gamesSim(1000)"
      ],
      "execution_count": 106,
      "outputs": [
        {
          "output_type": "stream",
          "text": [
            "AR Win  0.31 %\n",
            "BR Win  0.382 %\n",
            "Tie  0.308 %\n"
          ],
          "name": "stdout"
        }
      ]
    }
  ]
}