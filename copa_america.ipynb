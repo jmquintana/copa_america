{
  "nbformat": 4,
  "nbformat_minor": 0,
  "metadata": {
    "colab": {
      "name": "copa_america.ipynb",
      "provenance": [],
      "collapsed_sections": [],
      "authorship_tag": "ABX9TyMM03W9bC5taKlTBmrIc7Db",
      "include_colab_link": true
    },
    "kernelspec": {
      "name": "python3",
      "display_name": "Python 3"
    },
    "language_info": {
      "name": "python"
    }
  },
  "cells": [
    {
      "cell_type": "markdown",
      "metadata": {
        "id": "view-in-github",
        "colab_type": "text"
      },
      "source": [
        "<a href=\"https://colab.research.google.com/github/jmquintana/copa_america/blob/main/copa_america.ipynb\" target=\"_parent\"><img src=\"https://colab.research.google.com/assets/colab-badge.svg\" alt=\"Open In Colab\"/></a>"
      ]
    },
    {
      "cell_type": "code",
      "metadata": {
        "id": "fCGVacN5C4OM"
      },
      "source": [
        "# Importamos las librerías que vamos a necesitar\n",
        "import numpy as np\n",
        "import pandas as pd\n",
        "import matplotlib.pyplot as plt\n",
        "import matplotlib.ticker as ticker\n",
        "import seaborn as sns\n",
        "import random as rnd\n",
        "from collections import namedtuple\n",
        "from collections import Counter"
      ],
      "execution_count": 1,
      "outputs": []
    },
    {
      "cell_type": "code",
      "metadata": {
        "id": "3N_6Dgeu1Xc3"
      },
      "source": [
        "# Le doy formato a los gráficos\n",
        "sns.set_style(\"darkgrid\")\n",
        "plt.rc('font', size=10)\n",
        "plt.rc('axes', titlesize=16)\n",
        "plt.rc('figure', titlesize=16)\n",
        "plt.rc('axes', labelsize=14) \n",
        "plt.rc('xtick', labelsize=12) \n",
        "plt.rc('ytick', labelsize=12) "
      ],
      "execution_count": 2,
      "outputs": []
    },
    {
      "cell_type": "code",
      "metadata": {
        "colab": {
          "base_uri": "https://localhost:8080/",
          "height": 17
        },
        "id": "h1bNT_of73MR",
        "outputId": "692d87ec-b1d6-4820-b3a6-2d90b8b95e7b"
      },
      "source": [
        "#Seteamos para que no utilice notacion cientifica\n",
        "pd.options.display.float_format = '{:.4f}'.format\n",
        "#Seteo para que el máximo de columnas que muestra al levantar una base sean 500\n",
        "pd.set_option('display.max_columns',500)\n",
        "#Estos códigos hacen que la visualización de la consola abarque toda la pantalla (sin los recortes a los costados). Tambien hacen que al mostrar dataframes podamos ver todas las columnas que tiene.\n",
        "from IPython.core.display import display, HTML\n",
        "display(HTML(\"<style>.container { width:100% !important; }</style>\"))\n",
        "# Codigo para poder imprimir multiples outputs en una misma línea\n",
        "# from IPython.core.interactiveshell import InteractiveShell\n",
        "# InteractiveShell.ast_node_interactivity = \"all\""
      ],
      "execution_count": 3,
      "outputs": [
        {
          "output_type": "display_data",
          "data": {
            "text/html": [
              "<style>.container { width:100% !important; }</style>"
            ],
            "text/plain": [
              "<IPython.core.display.HTML object>"
            ]
          },
          "metadata": {
            "tags": []
          }
        }
      ]
    },
    {
      "cell_type": "code",
      "metadata": {
        "id": "YL2eAd_tC4Oa",
        "colab": {
          "base_uri": "https://localhost:8080/"
        },
        "outputId": "4fdd8251-33f2-412e-e65a-3dd227ce5a46"
      },
      "source": [
        "# Monto mi Google Drive para cargar el DataSet\n",
        "from google.colab import drive\n",
        "drive.mount('/content/drive')"
      ],
      "execution_count": 4,
      "outputs": [
        {
          "output_type": "stream",
          "text": [
            "Mounted at /content/drive\n"
          ],
          "name": "stdout"
        }
      ]
    },
    {
      "cell_type": "code",
      "metadata": {
        "id": "CauRgMsgHUgE"
      },
      "source": [
        "# Cargo el DataSet con Pandas como un DataFrame nombrado \"df\"\n",
        "# Previamente debe descargarse del siguiente link: https://www.kaggle.com/ramnquintana/resultados-de-futbol-entre-1872-y-2017?select=results.csv\n",
        "df = pd.read_csv(\"/content/drive/MyDrive/Colab Notebooks/results.csv\")"
      ],
      "execution_count": 5,
      "outputs": []
    },
    {
      "cell_type": "code",
      "metadata": {
        "colab": {
          "base_uri": "https://localhost:8080/"
        },
        "id": "U7S9JoAktqiw",
        "outputId": "5c8638d4-593a-4b52-ee47-23920f77e92a"
      },
      "source": [
        "print(\"Columnas:\",df.shape[1])\n",
        "print(\"Filas:\",df.shape[0])"
      ],
      "execution_count": 6,
      "outputs": [
        {
          "output_type": "stream",
          "text": [
            "Columnas: 9\n",
            "Filas: 41243\n"
          ],
          "name": "stdout"
        }
      ]
    },
    {
      "cell_type": "code",
      "metadata": {
        "colab": {
          "base_uri": "https://localhost:8080/",
          "height": 204
        },
        "id": "Uz6y4MByuKjS",
        "outputId": "4cb64bf7-9008-49fe-df74-c903a12f5030"
      },
      "source": [
        "df.head()"
      ],
      "execution_count": 7,
      "outputs": [
        {
          "output_type": "execute_result",
          "data": {
            "text/html": [
              "<div>\n",
              "<style scoped>\n",
              "    .dataframe tbody tr th:only-of-type {\n",
              "        vertical-align: middle;\n",
              "    }\n",
              "\n",
              "    .dataframe tbody tr th {\n",
              "        vertical-align: top;\n",
              "    }\n",
              "\n",
              "    .dataframe thead th {\n",
              "        text-align: right;\n",
              "    }\n",
              "</style>\n",
              "<table border=\"1\" class=\"dataframe\">\n",
              "  <thead>\n",
              "    <tr style=\"text-align: right;\">\n",
              "      <th></th>\n",
              "      <th>date</th>\n",
              "      <th>home_team</th>\n",
              "      <th>away_team</th>\n",
              "      <th>home_score</th>\n",
              "      <th>away_score</th>\n",
              "      <th>tournament</th>\n",
              "      <th>city</th>\n",
              "      <th>country</th>\n",
              "      <th>neutral</th>\n",
              "    </tr>\n",
              "  </thead>\n",
              "  <tbody>\n",
              "    <tr>\n",
              "      <th>0</th>\n",
              "      <td>1872-11-30</td>\n",
              "      <td>Scotland</td>\n",
              "      <td>England</td>\n",
              "      <td>0</td>\n",
              "      <td>0</td>\n",
              "      <td>Friendly</td>\n",
              "      <td>Glasgow</td>\n",
              "      <td>Scotland</td>\n",
              "      <td>False</td>\n",
              "    </tr>\n",
              "    <tr>\n",
              "      <th>1</th>\n",
              "      <td>1873-03-08</td>\n",
              "      <td>England</td>\n",
              "      <td>Scotland</td>\n",
              "      <td>4</td>\n",
              "      <td>2</td>\n",
              "      <td>Friendly</td>\n",
              "      <td>London</td>\n",
              "      <td>England</td>\n",
              "      <td>False</td>\n",
              "    </tr>\n",
              "    <tr>\n",
              "      <th>2</th>\n",
              "      <td>1874-03-07</td>\n",
              "      <td>Scotland</td>\n",
              "      <td>England</td>\n",
              "      <td>2</td>\n",
              "      <td>1</td>\n",
              "      <td>Friendly</td>\n",
              "      <td>Glasgow</td>\n",
              "      <td>Scotland</td>\n",
              "      <td>False</td>\n",
              "    </tr>\n",
              "    <tr>\n",
              "      <th>3</th>\n",
              "      <td>1875-03-06</td>\n",
              "      <td>England</td>\n",
              "      <td>Scotland</td>\n",
              "      <td>2</td>\n",
              "      <td>2</td>\n",
              "      <td>Friendly</td>\n",
              "      <td>London</td>\n",
              "      <td>England</td>\n",
              "      <td>False</td>\n",
              "    </tr>\n",
              "    <tr>\n",
              "      <th>4</th>\n",
              "      <td>1876-03-04</td>\n",
              "      <td>Scotland</td>\n",
              "      <td>England</td>\n",
              "      <td>3</td>\n",
              "      <td>0</td>\n",
              "      <td>Friendly</td>\n",
              "      <td>Glasgow</td>\n",
              "      <td>Scotland</td>\n",
              "      <td>False</td>\n",
              "    </tr>\n",
              "  </tbody>\n",
              "</table>\n",
              "</div>"
            ],
            "text/plain": [
              "         date home_team away_team  home_score  away_score tournament     city  \\\n",
              "0  1872-11-30  Scotland   England           0           0   Friendly  Glasgow   \n",
              "1  1873-03-08   England  Scotland           4           2   Friendly   London   \n",
              "2  1874-03-07  Scotland   England           2           1   Friendly  Glasgow   \n",
              "3  1875-03-06   England  Scotland           2           2   Friendly   London   \n",
              "4  1876-03-04  Scotland   England           3           0   Friendly  Glasgow   \n",
              "\n",
              "    country  neutral  \n",
              "0  Scotland    False  \n",
              "1   England    False  \n",
              "2  Scotland    False  \n",
              "3   England    False  \n",
              "4  Scotland    False  "
            ]
          },
          "metadata": {
            "tags": []
          },
          "execution_count": 7
        }
      ]
    },
    {
      "cell_type": "code",
      "metadata": {
        "id": "tid7sU0xWMX_"
      },
      "source": [
        "# convert the 'Date' column to datetime format\n",
        "df['date'] = df['date'].astype('datetime64[ns]')"
      ],
      "execution_count": 8,
      "outputs": []
    },
    {
      "cell_type": "code",
      "metadata": {
        "colab": {
          "base_uri": "https://localhost:8080/"
        },
        "id": "t8HtFaCWU_Nc",
        "outputId": "84313108-98f9-4986-afcf-d26ab9722bf3"
      },
      "source": [
        "df.dtypes"
      ],
      "execution_count": 9,
      "outputs": [
        {
          "output_type": "execute_result",
          "data": {
            "text/plain": [
              "date          datetime64[ns]\n",
              "home_team             object\n",
              "away_team             object\n",
              "home_score             int64\n",
              "away_score             int64\n",
              "tournament            object\n",
              "city                  object\n",
              "country               object\n",
              "neutral                 bool\n",
              "dtype: object"
            ]
          },
          "metadata": {
            "tags": []
          },
          "execution_count": 9
        }
      ]
    },
    {
      "cell_type": "code",
      "metadata": {
        "colab": {
          "base_uri": "https://localhost:8080/",
          "height": 204
        },
        "id": "4mvDvohmWQW4",
        "outputId": "d0c8679d-12da-4339-bcce-6436cac523cc"
      },
      "source": [
        "df.head()"
      ],
      "execution_count": 10,
      "outputs": [
        {
          "output_type": "execute_result",
          "data": {
            "text/html": [
              "<div>\n",
              "<style scoped>\n",
              "    .dataframe tbody tr th:only-of-type {\n",
              "        vertical-align: middle;\n",
              "    }\n",
              "\n",
              "    .dataframe tbody tr th {\n",
              "        vertical-align: top;\n",
              "    }\n",
              "\n",
              "    .dataframe thead th {\n",
              "        text-align: right;\n",
              "    }\n",
              "</style>\n",
              "<table border=\"1\" class=\"dataframe\">\n",
              "  <thead>\n",
              "    <tr style=\"text-align: right;\">\n",
              "      <th></th>\n",
              "      <th>date</th>\n",
              "      <th>home_team</th>\n",
              "      <th>away_team</th>\n",
              "      <th>home_score</th>\n",
              "      <th>away_score</th>\n",
              "      <th>tournament</th>\n",
              "      <th>city</th>\n",
              "      <th>country</th>\n",
              "      <th>neutral</th>\n",
              "    </tr>\n",
              "  </thead>\n",
              "  <tbody>\n",
              "    <tr>\n",
              "      <th>0</th>\n",
              "      <td>1872-11-30</td>\n",
              "      <td>Scotland</td>\n",
              "      <td>England</td>\n",
              "      <td>0</td>\n",
              "      <td>0</td>\n",
              "      <td>Friendly</td>\n",
              "      <td>Glasgow</td>\n",
              "      <td>Scotland</td>\n",
              "      <td>False</td>\n",
              "    </tr>\n",
              "    <tr>\n",
              "      <th>1</th>\n",
              "      <td>1873-03-08</td>\n",
              "      <td>England</td>\n",
              "      <td>Scotland</td>\n",
              "      <td>4</td>\n",
              "      <td>2</td>\n",
              "      <td>Friendly</td>\n",
              "      <td>London</td>\n",
              "      <td>England</td>\n",
              "      <td>False</td>\n",
              "    </tr>\n",
              "    <tr>\n",
              "      <th>2</th>\n",
              "      <td>1874-03-07</td>\n",
              "      <td>Scotland</td>\n",
              "      <td>England</td>\n",
              "      <td>2</td>\n",
              "      <td>1</td>\n",
              "      <td>Friendly</td>\n",
              "      <td>Glasgow</td>\n",
              "      <td>Scotland</td>\n",
              "      <td>False</td>\n",
              "    </tr>\n",
              "    <tr>\n",
              "      <th>3</th>\n",
              "      <td>1875-03-06</td>\n",
              "      <td>England</td>\n",
              "      <td>Scotland</td>\n",
              "      <td>2</td>\n",
              "      <td>2</td>\n",
              "      <td>Friendly</td>\n",
              "      <td>London</td>\n",
              "      <td>England</td>\n",
              "      <td>False</td>\n",
              "    </tr>\n",
              "    <tr>\n",
              "      <th>4</th>\n",
              "      <td>1876-03-04</td>\n",
              "      <td>Scotland</td>\n",
              "      <td>England</td>\n",
              "      <td>3</td>\n",
              "      <td>0</td>\n",
              "      <td>Friendly</td>\n",
              "      <td>Glasgow</td>\n",
              "      <td>Scotland</td>\n",
              "      <td>False</td>\n",
              "    </tr>\n",
              "  </tbody>\n",
              "</table>\n",
              "</div>"
            ],
            "text/plain": [
              "        date home_team away_team  home_score  away_score tournament     city  \\\n",
              "0 1872-11-30  Scotland   England           0           0   Friendly  Glasgow   \n",
              "1 1873-03-08   England  Scotland           4           2   Friendly   London   \n",
              "2 1874-03-07  Scotland   England           2           1   Friendly  Glasgow   \n",
              "3 1875-03-06   England  Scotland           2           2   Friendly   London   \n",
              "4 1876-03-04  Scotland   England           3           0   Friendly  Glasgow   \n",
              "\n",
              "    country  neutral  \n",
              "0  Scotland    False  \n",
              "1   England    False  \n",
              "2  Scotland    False  \n",
              "3   England    False  \n",
              "4  Scotland    False  "
            ]
          },
          "metadata": {
            "tags": []
          },
          "execution_count": 10
        }
      ]
    },
    {
      "cell_type": "code",
      "metadata": {
        "id": "2483AHD9YLru"
      },
      "source": [
        "teams = ['Argentina',\n",
        "          'Chile',\n",
        "          'Paraguay',\n",
        "          'Uruguay',\n",
        "          'Bolivia',\n",
        "          'Brazil',\n",
        "          'Colombia',\n",
        "          'Peru',\n",
        "          'Venezuela',\n",
        "          'Ecuador']"
      ],
      "execution_count": 11,
      "outputs": []
    },
    {
      "cell_type": "code",
      "metadata": {
        "id": "kT7Be7Av5hds"
      },
      "source": [
        "arpy = ['Argentina',\n",
        "        'Paraguay']"
      ],
      "execution_count": 12,
      "outputs": []
    },
    {
      "cell_type": "code",
      "metadata": {
        "id": "9BuKH-hS6FhD"
      },
      "source": [
        "df_ = df[df.home_team.isin(arpy) & df.away_team.isin(arpy)]"
      ],
      "execution_count": 13,
      "outputs": []
    },
    {
      "cell_type": "code",
      "metadata": {
        "colab": {
          "base_uri": "https://localhost:8080/",
          "height": 497
        },
        "id": "4B4C3GSD52Q4",
        "outputId": "47bc132d-32c5-4b51-c122-f0d0626fdd8a"
      },
      "source": [
        "sns.countplot(df_.tournament)\n",
        "plt.xticks(rotation=90)\n",
        "plt.show()"
      ],
      "execution_count": 14,
      "outputs": [
        {
          "output_type": "stream",
          "text": [
            "/usr/local/lib/python3.7/dist-packages/seaborn/_decorators.py:43: FutureWarning: Pass the following variable as a keyword arg: x. From version 0.12, the only valid positional argument will be `data`, and passing other arguments without an explicit keyword will result in an error or misinterpretation.\n",
            "  FutureWarning\n"
          ],
          "name": "stderr"
        },
        {
          "output_type": "display_data",
          "data": {
            "image/png": "[encoded data removed]",
            "text/plain": [
              "<Figure size 432x288 with 1 Axes>"
            ]
          },
          "metadata": {
            "tags": []
          }
        }
      ]
    },
    {
      "cell_type": "code",
      "metadata": {
        "colab": {
          "base_uri": "https://localhost:8080/",
          "height": 841
        },
        "id": "qq9B4px15cqo",
        "outputId": "d024f0b2-ce3a-445c-8f5e-aef5b0978db3"
      },
      "source": [
        "df_ = df_[df_.tournament == 'Copa América']\n",
        "print(df_.shape)\n",
        "df_"
      ],
      "execution_count": 15,
      "outputs": [
        {
          "output_type": "stream",
          "text": [
            "(25, 9)\n"
          ],
          "name": "stdout"
        },
        {
          "output_type": "execute_result",
          "data": {
            "text/html": [
              "<div>\n",
              "<style scoped>\n",
              "    .dataframe tbody tr th:only-of-type {\n",
              "        vertical-align: middle;\n",
              "    }\n",
              "\n",
              "    .dataframe tbody tr th {\n",
              "        vertical-align: top;\n",
              "    }\n",
              "\n",
              "    .dataframe thead th {\n",
              "        text-align: right;\n",
              "    }\n",
              "</style>\n",
              "<table border=\"1\" class=\"dataframe\">\n",
              "  <thead>\n",
              "    <tr style=\"text-align: right;\">\n",
              "      <th></th>\n",
              "      <th>date</th>\n",
              "      <th>home_team</th>\n",
              "      <th>away_team</th>\n",
              "      <th>home_score</th>\n",
              "      <th>away_score</th>\n",
              "      <th>tournament</th>\n",
              "      <th>city</th>\n",
              "      <th>country</th>\n",
              "      <th>neutral</th>\n",
              "    </tr>\n",
              "  </thead>\n",
              "  <tbody>\n",
              "    <tr>\n",
              "      <th>601</th>\n",
              "      <td>1921-10-16</td>\n",
              "      <td>Argentina</td>\n",
              "      <td>Paraguay</td>\n",
              "      <td>3</td>\n",
              "      <td>0</td>\n",
              "      <td>Copa América</td>\n",
              "      <td>Buenos Aires</td>\n",
              "      <td>Argentina</td>\n",
              "      <td>False</td>\n",
              "    </tr>\n",
              "    <tr>\n",
              "      <th>666</th>\n",
              "      <td>1922-10-18</td>\n",
              "      <td>Argentina</td>\n",
              "      <td>Paraguay</td>\n",
              "      <td>2</td>\n",
              "      <td>0</td>\n",
              "      <td>Copa América</td>\n",
              "      <td>Rio de Janeiro</td>\n",
              "      <td>Brazil</td>\n",
              "      <td>True</td>\n",
              "    </tr>\n",
              "    <tr>\n",
              "      <th>750</th>\n",
              "      <td>1923-10-29</td>\n",
              "      <td>Argentina</td>\n",
              "      <td>Paraguay</td>\n",
              "      <td>4</td>\n",
              "      <td>3</td>\n",
              "      <td>Copa América</td>\n",
              "      <td>Montevideo</td>\n",
              "      <td>Uruguay</td>\n",
              "      <td>True</td>\n",
              "    </tr>\n",
              "    <tr>\n",
              "      <th>836</th>\n",
              "      <td>1924-10-12</td>\n",
              "      <td>Argentina</td>\n",
              "      <td>Paraguay</td>\n",
              "      <td>0</td>\n",
              "      <td>0</td>\n",
              "      <td>Copa América</td>\n",
              "      <td>Montevideo</td>\n",
              "      <td>Uruguay</td>\n",
              "      <td>True</td>\n",
              "    </tr>\n",
              "    <tr>\n",
              "      <th>925</th>\n",
              "      <td>1925-11-29</td>\n",
              "      <td>Argentina</td>\n",
              "      <td>Paraguay</td>\n",
              "      <td>2</td>\n",
              "      <td>0</td>\n",
              "      <td>Copa América</td>\n",
              "      <td>Buenos Aires</td>\n",
              "      <td>Argentina</td>\n",
              "      <td>False</td>\n",
              "    </tr>\n",
              "    <tr>\n",
              "      <th>931</th>\n",
              "      <td>1925-12-20</td>\n",
              "      <td>Argentina</td>\n",
              "      <td>Paraguay</td>\n",
              "      <td>3</td>\n",
              "      <td>1</td>\n",
              "      <td>Copa América</td>\n",
              "      <td>Buenos Aires</td>\n",
              "      <td>Argentina</td>\n",
              "      <td>False</td>\n",
              "    </tr>\n",
              "    <tr>\n",
              "      <th>1000</th>\n",
              "      <td>1926-10-20</td>\n",
              "      <td>Argentina</td>\n",
              "      <td>Paraguay</td>\n",
              "      <td>8</td>\n",
              "      <td>0</td>\n",
              "      <td>Copa América</td>\n",
              "      <td>Santiago</td>\n",
              "      <td>Chile</td>\n",
              "      <td>True</td>\n",
              "    </tr>\n",
              "    <tr>\n",
              "      <th>1244</th>\n",
              "      <td>1929-11-10</td>\n",
              "      <td>Argentina</td>\n",
              "      <td>Paraguay</td>\n",
              "      <td>4</td>\n",
              "      <td>1</td>\n",
              "      <td>Copa América</td>\n",
              "      <td>Buenos Aires</td>\n",
              "      <td>Argentina</td>\n",
              "      <td>False</td>\n",
              "    </tr>\n",
              "    <tr>\n",
              "      <th>1928</th>\n",
              "      <td>1937-01-09</td>\n",
              "      <td>Argentina</td>\n",
              "      <td>Paraguay</td>\n",
              "      <td>6</td>\n",
              "      <td>1</td>\n",
              "      <td>Copa América</td>\n",
              "      <td>Buenos Aires</td>\n",
              "      <td>Argentina</td>\n",
              "      <td>False</td>\n",
              "    </tr>\n",
              "    <tr>\n",
              "      <th>2368</th>\n",
              "      <td>1942-01-11</td>\n",
              "      <td>Argentina</td>\n",
              "      <td>Paraguay</td>\n",
              "      <td>4</td>\n",
              "      <td>3</td>\n",
              "      <td>Copa América</td>\n",
              "      <td>Montevideo</td>\n",
              "      <td>Uruguay</td>\n",
              "      <td>True</td>\n",
              "    </tr>\n",
              "    <tr>\n",
              "      <th>2550</th>\n",
              "      <td>1946-01-12</td>\n",
              "      <td>Argentina</td>\n",
              "      <td>Paraguay</td>\n",
              "      <td>2</td>\n",
              "      <td>0</td>\n",
              "      <td>Copa América</td>\n",
              "      <td>Buenos Aires</td>\n",
              "      <td>Argentina</td>\n",
              "      <td>False</td>\n",
              "    </tr>\n",
              "    <tr>\n",
              "      <th>2747</th>\n",
              "      <td>1947-12-02</td>\n",
              "      <td>Argentina</td>\n",
              "      <td>Paraguay</td>\n",
              "      <td>6</td>\n",
              "      <td>0</td>\n",
              "      <td>Copa América</td>\n",
              "      <td>Guayaquil</td>\n",
              "      <td>Ecuador</td>\n",
              "      <td>True</td>\n",
              "    </tr>\n",
              "    <tr>\n",
              "      <th>3728</th>\n",
              "      <td>1955-03-02</td>\n",
              "      <td>Argentina</td>\n",
              "      <td>Paraguay</td>\n",
              "      <td>5</td>\n",
              "      <td>3</td>\n",
              "      <td>Copa América</td>\n",
              "      <td>Santiago</td>\n",
              "      <td>Chile</td>\n",
              "      <td>True</td>\n",
              "    </tr>\n",
              "    <tr>\n",
              "      <th>3880</th>\n",
              "      <td>1956-02-01</td>\n",
              "      <td>Argentina</td>\n",
              "      <td>Paraguay</td>\n",
              "      <td>1</td>\n",
              "      <td>0</td>\n",
              "      <td>Copa América</td>\n",
              "      <td>Montevideo</td>\n",
              "      <td>Uruguay</td>\n",
              "      <td>True</td>\n",
              "    </tr>\n",
              "    <tr>\n",
              "      <th>4478</th>\n",
              "      <td>1959-03-22</td>\n",
              "      <td>Argentina</td>\n",
              "      <td>Paraguay</td>\n",
              "      <td>3</td>\n",
              "      <td>1</td>\n",
              "      <td>Copa América</td>\n",
              "      <td>Buenos Aires</td>\n",
              "      <td>Argentina</td>\n",
              "      <td>False</td>\n",
              "    </tr>\n",
              "    <tr>\n",
              "      <th>4613</th>\n",
              "      <td>1959-12-09</td>\n",
              "      <td>Argentina</td>\n",
              "      <td>Paraguay</td>\n",
              "      <td>4</td>\n",
              "      <td>2</td>\n",
              "      <td>Copa América</td>\n",
              "      <td>Guayaquil</td>\n",
              "      <td>Ecuador</td>\n",
              "      <td>True</td>\n",
              "    </tr>\n",
              "    <tr>\n",
              "      <th>5343</th>\n",
              "      <td>1963-03-31</td>\n",
              "      <td>Argentina</td>\n",
              "      <td>Paraguay</td>\n",
              "      <td>1</td>\n",
              "      <td>1</td>\n",
              "      <td>Copa América</td>\n",
              "      <td>La Paz</td>\n",
              "      <td>Bolivia</td>\n",
              "      <td>True</td>\n",
              "    </tr>\n",
              "    <tr>\n",
              "      <th>6372</th>\n",
              "      <td>1967-01-18</td>\n",
              "      <td>Argentina</td>\n",
              "      <td>Paraguay</td>\n",
              "      <td>4</td>\n",
              "      <td>1</td>\n",
              "      <td>Copa América</td>\n",
              "      <td>Montevideo</td>\n",
              "      <td>Uruguay</td>\n",
              "      <td>True</td>\n",
              "    </tr>\n",
              "    <tr>\n",
              "      <th>15665</th>\n",
              "      <td>1989-07-16</td>\n",
              "      <td>Paraguay</td>\n",
              "      <td>Argentina</td>\n",
              "      <td>0</td>\n",
              "      <td>0</td>\n",
              "      <td>Copa América</td>\n",
              "      <td>Rio de Janeiro</td>\n",
              "      <td>Brazil</td>\n",
              "      <td>True</td>\n",
              "    </tr>\n",
              "    <tr>\n",
              "      <th>16578</th>\n",
              "      <td>1991-07-12</td>\n",
              "      <td>Argentina</td>\n",
              "      <td>Paraguay</td>\n",
              "      <td>4</td>\n",
              "      <td>1</td>\n",
              "      <td>Copa América</td>\n",
              "      <td>Concepción</td>\n",
              "      <td>Chile</td>\n",
              "      <td>True</td>\n",
              "    </tr>\n",
              "    <tr>\n",
              "      <th>20584</th>\n",
              "      <td>1997-06-17</td>\n",
              "      <td>Argentina</td>\n",
              "      <td>Paraguay</td>\n",
              "      <td>1</td>\n",
              "      <td>1</td>\n",
              "      <td>Copa América</td>\n",
              "      <td>Cochabamba</td>\n",
              "      <td>Bolivia</td>\n",
              "      <td>True</td>\n",
              "    </tr>\n",
              "    <tr>\n",
              "      <th>29353</th>\n",
              "      <td>2007-07-05</td>\n",
              "      <td>Argentina</td>\n",
              "      <td>Paraguay</td>\n",
              "      <td>1</td>\n",
              "      <td>0</td>\n",
              "      <td>Copa América</td>\n",
              "      <td>Barquisimeto</td>\n",
              "      <td>Venezuela</td>\n",
              "      <td>True</td>\n",
              "    </tr>\n",
              "    <tr>\n",
              "      <th>36953</th>\n",
              "      <td>2015-06-13</td>\n",
              "      <td>Argentina</td>\n",
              "      <td>Paraguay</td>\n",
              "      <td>2</td>\n",
              "      <td>2</td>\n",
              "      <td>Copa América</td>\n",
              "      <td>La Serena</td>\n",
              "      <td>Chile</td>\n",
              "      <td>True</td>\n",
              "    </tr>\n",
              "    <tr>\n",
              "      <th>37076</th>\n",
              "      <td>2015-06-30</td>\n",
              "      <td>Argentina</td>\n",
              "      <td>Paraguay</td>\n",
              "      <td>6</td>\n",
              "      <td>1</td>\n",
              "      <td>Copa América</td>\n",
              "      <td>Concepción</td>\n",
              "      <td>Chile</td>\n",
              "      <td>True</td>\n",
              "    </tr>\n",
              "    <tr>\n",
              "      <th>40789</th>\n",
              "      <td>2019-06-19</td>\n",
              "      <td>Argentina</td>\n",
              "      <td>Paraguay</td>\n",
              "      <td>1</td>\n",
              "      <td>1</td>\n",
              "      <td>Copa América</td>\n",
              "      <td>Belo Horizonte</td>\n",
              "      <td>Brazil</td>\n",
              "      <td>True</td>\n",
              "    </tr>\n",
              "  </tbody>\n",
              "</table>\n",
              "</div>"
            ],
            "text/plain": [
              "            date  home_team  away_team  home_score  away_score    tournament  \\\n",
              "601   1921-10-16  Argentina   Paraguay           3           0  Copa América   \n",
              "666   1922-10-18  Argentina   Paraguay           2           0  Copa América   \n",
              "750   1923-10-29  Argentina   Paraguay           4           3  Copa América   \n",
              "836   1924-10-12  Argentina   Paraguay           0           0  Copa América   \n",
              "925   1925-11-29  Argentina   Paraguay           2           0  Copa América   \n",
              "931   1925-12-20  Argentina   Paraguay           3           1  Copa América   \n",
              "1000  1926-10-20  Argentina   Paraguay           8           0  Copa América   \n",
              "1244  1929-11-10  Argentina   Paraguay           4           1  Copa América   \n",
              "1928  1937-01-09  Argentina   Paraguay           6           1  Copa América   \n",
              "2368  1942-01-11  Argentina   Paraguay           4           3  Copa América   \n",
              "2550  1946-01-12  Argentina   Paraguay           2           0  Copa América   \n",
              "2747  1947-12-02  Argentina   Paraguay           6           0  Copa América   \n",
              "3728  1955-03-02  Argentina   Paraguay           5           3  Copa América   \n",
              "3880  1956-02-01  Argentina   Paraguay           1           0  Copa América   \n",
              "4478  1959-03-22  Argentina   Paraguay           3           1  Copa América   \n",
              "4613  1959-12-09  Argentina   Paraguay           4           2  Copa América   \n",
              "5343  1963-03-31  Argentina   Paraguay           1           1  Copa América   \n",
              "6372  1967-01-18  Argentina   Paraguay           4           1  Copa América   \n",
              "15665 1989-07-16   Paraguay  Argentina           0           0  Copa América   \n",
              "16578 1991-07-12  Argentina   Paraguay           4           1  Copa América   \n",
              "20584 1997-06-17  Argentina   Paraguay           1           1  Copa América   \n",
              "29353 2007-07-05  Argentina   Paraguay           1           0  Copa América   \n",
              "36953 2015-06-13  Argentina   Paraguay           2           2  Copa América   \n",
              "37076 2015-06-30  Argentina   Paraguay           6           1  Copa América   \n",
              "40789 2019-06-19  Argentina   Paraguay           1           1  Copa América   \n",
              "\n",
              "                 city    country  neutral  \n",
              "601      Buenos Aires  Argentina    False  \n",
              "666    Rio de Janeiro     Brazil     True  \n",
              "750        Montevideo    Uruguay     True  \n",
              "836        Montevideo    Uruguay     True  \n",
              "925      Buenos Aires  Argentina    False  \n",
              "931      Buenos Aires  Argentina    False  \n",
              "1000         Santiago      Chile     True  \n",
              "1244     Buenos Aires  Argentina    False  \n",
              "1928     Buenos Aires  Argentina    False  \n",
              "2368       Montevideo    Uruguay     True  \n",
              "2550     Buenos Aires  Argentina    False  \n",
              "2747        Guayaquil    Ecuador     True  \n",
              "3728         Santiago      Chile     True  \n",
              "3880       Montevideo    Uruguay     True  \n",
              "4478     Buenos Aires  Argentina    False  \n",
              "4613        Guayaquil    Ecuador     True  \n",
              "5343           La Paz    Bolivia     True  \n",
              "6372       Montevideo    Uruguay     True  \n",
              "15665  Rio de Janeiro     Brazil     True  \n",
              "16578      Concepción      Chile     True  \n",
              "20584      Cochabamba    Bolivia     True  \n",
              "29353    Barquisimeto  Venezuela     True  \n",
              "36953       La Serena      Chile     True  \n",
              "37076      Concepción      Chile     True  \n",
              "40789  Belo Horizonte     Brazil     True  "
            ]
          },
          "metadata": {
            "tags": []
          },
          "execution_count": 15
        }
      ]
    },
    {
      "cell_type": "code",
      "metadata": {
        "colab": {
          "base_uri": "https://localhost:8080/",
          "height": 204
        },
        "id": "hxYI8mWcYjEr",
        "outputId": "4794ebb9-1d76-4e24-f12b-ac662594a483"
      },
      "source": [
        "df2 = df[df.date > '2010-01-01']\n",
        "df2 = df2[df2.home_team.isin(teams) & df2.away_team.isin(teams)]\n",
        "df2.head()"
      ],
      "execution_count": 16,
      "outputs": [
        {
          "output_type": "execute_result",
          "data": {
            "text/html": [
              "<div>\n",
              "<style scoped>\n",
              "    .dataframe tbody tr th:only-of-type {\n",
              "        vertical-align: middle;\n",
              "    }\n",
              "\n",
              "    .dataframe tbody tr th {\n",
              "        vertical-align: top;\n",
              "    }\n",
              "\n",
              "    .dataframe thead th {\n",
              "        text-align: right;\n",
              "    }\n",
              "</style>\n",
              "<table border=\"1\" class=\"dataframe\">\n",
              "  <thead>\n",
              "    <tr style=\"text-align: right;\">\n",
              "      <th></th>\n",
              "      <th>date</th>\n",
              "      <th>home_team</th>\n",
              "      <th>away_team</th>\n",
              "      <th>home_score</th>\n",
              "      <th>away_score</th>\n",
              "      <th>tournament</th>\n",
              "      <th>city</th>\n",
              "      <th>country</th>\n",
              "      <th>neutral</th>\n",
              "    </tr>\n",
              "  </thead>\n",
              "  <tbody>\n",
              "    <tr>\n",
              "      <th>31987</th>\n",
              "      <td>2010-03-31</td>\n",
              "      <td>Chile</td>\n",
              "      <td>Venezuela</td>\n",
              "      <td>0</td>\n",
              "      <td>0</td>\n",
              "      <td>Friendly</td>\n",
              "      <td>Temuco</td>\n",
              "      <td>Chile</td>\n",
              "      <td>False</td>\n",
              "    </tr>\n",
              "    <tr>\n",
              "      <th>32168</th>\n",
              "      <td>2010-06-28</td>\n",
              "      <td>Brazil</td>\n",
              "      <td>Chile</td>\n",
              "      <td>3</td>\n",
              "      <td>0</td>\n",
              "      <td>FIFA World Cup</td>\n",
              "      <td>Johannesburg</td>\n",
              "      <td>South Africa</td>\n",
              "      <td>True</td>\n",
              "    </tr>\n",
              "    <tr>\n",
              "      <th>32196</th>\n",
              "      <td>2010-08-11</td>\n",
              "      <td>Bolivia</td>\n",
              "      <td>Colombia</td>\n",
              "      <td>1</td>\n",
              "      <td>1</td>\n",
              "      <td>Friendly</td>\n",
              "      <td>La Paz</td>\n",
              "      <td>Bolivia</td>\n",
              "      <td>False</td>\n",
              "    </tr>\n",
              "    <tr>\n",
              "      <th>32277</th>\n",
              "      <td>2010-09-03</td>\n",
              "      <td>Venezuela</td>\n",
              "      <td>Colombia</td>\n",
              "      <td>0</td>\n",
              "      <td>2</td>\n",
              "      <td>Friendly</td>\n",
              "      <td>Puerto la Cruz</td>\n",
              "      <td>Venezuela</td>\n",
              "      <td>False</td>\n",
              "    </tr>\n",
              "    <tr>\n",
              "      <th>32343</th>\n",
              "      <td>2010-09-07</td>\n",
              "      <td>Venezuela</td>\n",
              "      <td>Ecuador</td>\n",
              "      <td>1</td>\n",
              "      <td>0</td>\n",
              "      <td>Friendly</td>\n",
              "      <td>Barquisimeto</td>\n",
              "      <td>Venezuela</td>\n",
              "      <td>False</td>\n",
              "    </tr>\n",
              "  </tbody>\n",
              "</table>\n",
              "</div>"
            ],
            "text/plain": [
              "            date  home_team  away_team  home_score  away_score  \\\n",
              "31987 2010-03-31      Chile  Venezuela           0           0   \n",
              "32168 2010-06-28     Brazil      Chile           3           0   \n",
              "32196 2010-08-11    Bolivia   Colombia           1           1   \n",
              "32277 2010-09-03  Venezuela   Colombia           0           2   \n",
              "32343 2010-09-07  Venezuela    Ecuador           1           0   \n",
              "\n",
              "           tournament            city       country  neutral  \n",
              "31987        Friendly          Temuco         Chile    False  \n",
              "32168  FIFA World Cup    Johannesburg  South Africa     True  \n",
              "32196        Friendly          La Paz       Bolivia    False  \n",
              "32277        Friendly  Puerto la Cruz     Venezuela    False  \n",
              "32343        Friendly    Barquisimeto     Venezuela    False  "
            ]
          },
          "metadata": {
            "tags": []
          },
          "execution_count": 16
        }
      ]
    },
    {
      "cell_type": "code",
      "metadata": {
        "colab": {
          "base_uri": "https://localhost:8080/",
          "height": 204
        },
        "id": "5ruYhrV4cL8k",
        "outputId": "3c1039d4-ea2f-4326-80a3-6c2468df199b"
      },
      "source": [
        "df2_1 = df2[['date', 'home_team', 'home_score', 'away_score']].rename({'home_team':'team', 'home_score':'team_score', 'away_score':'opponent_score'}, axis=1)\n",
        "df2_2 = df2[['date', 'away_team', 'away_score', 'home_score']].rename({'away_team':'team', 'away_score':'team_score', 'home_score':'opponent_score'}, axis=1)\n",
        "df3 = df2_1.append(df2_2).sort_values('date').reset_index(drop=True)\n",
        "df3.head()"
      ],
      "execution_count": 17,
      "outputs": [
        {
          "output_type": "execute_result",
          "data": {
            "text/html": [
              "<div>\n",
              "<style scoped>\n",
              "    .dataframe tbody tr th:only-of-type {\n",
              "        vertical-align: middle;\n",
              "    }\n",
              "\n",
              "    .dataframe tbody tr th {\n",
              "        vertical-align: top;\n",
              "    }\n",
              "\n",
              "    .dataframe thead th {\n",
              "        text-align: right;\n",
              "    }\n",
              "</style>\n",
              "<table border=\"1\" class=\"dataframe\">\n",
              "  <thead>\n",
              "    <tr style=\"text-align: right;\">\n",
              "      <th></th>\n",
              "      <th>date</th>\n",
              "      <th>team</th>\n",
              "      <th>team_score</th>\n",
              "      <th>opponent_score</th>\n",
              "    </tr>\n",
              "  </thead>\n",
              "  <tbody>\n",
              "    <tr>\n",
              "      <th>0</th>\n",
              "      <td>2010-03-31</td>\n",
              "      <td>Chile</td>\n",
              "      <td>0</td>\n",
              "      <td>0</td>\n",
              "    </tr>\n",
              "    <tr>\n",
              "      <th>1</th>\n",
              "      <td>2010-03-31</td>\n",
              "      <td>Venezuela</td>\n",
              "      <td>0</td>\n",
              "      <td>0</td>\n",
              "    </tr>\n",
              "    <tr>\n",
              "      <th>2</th>\n",
              "      <td>2010-06-28</td>\n",
              "      <td>Brazil</td>\n",
              "      <td>3</td>\n",
              "      <td>0</td>\n",
              "    </tr>\n",
              "    <tr>\n",
              "      <th>3</th>\n",
              "      <td>2010-06-28</td>\n",
              "      <td>Chile</td>\n",
              "      <td>0</td>\n",
              "      <td>3</td>\n",
              "    </tr>\n",
              "    <tr>\n",
              "      <th>4</th>\n",
              "      <td>2010-08-11</td>\n",
              "      <td>Bolivia</td>\n",
              "      <td>1</td>\n",
              "      <td>1</td>\n",
              "    </tr>\n",
              "  </tbody>\n",
              "</table>\n",
              "</div>"
            ],
            "text/plain": [
              "        date       team  team_score  opponent_score\n",
              "0 2010-03-31      Chile           0               0\n",
              "1 2010-03-31  Venezuela           0               0\n",
              "2 2010-06-28     Brazil           3               0\n",
              "3 2010-06-28      Chile           0               3\n",
              "4 2010-08-11    Bolivia           1               1"
            ]
          },
          "metadata": {
            "tags": []
          },
          "execution_count": 17
        }
      ]
    },
    {
      "cell_type": "code",
      "metadata": {
        "id": "f_WiO8smg3-1"
      },
      "source": [
        "vs = ['Argentina', 'Brazil']\n",
        "df_vs = df3[df3.team.isin(vs)]\n",
        "df_ar = df3[df3.team == 'Argentina']\n",
        "df_br = df3[df3.team == 'Brazil']"
      ],
      "execution_count": 18,
      "outputs": []
    },
    {
      "cell_type": "code",
      "metadata": {
        "colab": {
          "base_uri": "https://localhost:8080/",
          "height": 286
        },
        "id": "zoIpLK_yeyQc",
        "outputId": "afe1bbf0-ef9f-4ac8-b659-f7ed5004d6f8"
      },
      "source": [
        "sns.histplot(data=df_vs, x='team_score', discrete=True, stat=\"density\", hue='team')\n",
        "plt.xticks([0,1,2,3,4,5,6])\n",
        "plt.show()"
      ],
      "execution_count": 19,
      "outputs": [
        {
          "output_type": "display_data",
          "data": {
            "image/png": "[encoded data removed]",
            "text/plain": [
              "<Figure size 432x288 with 1 Axes>"
            ]
          },
          "metadata": {
            "tags": []
          }
        }
      ]
    },
    {
      "cell_type": "code",
      "metadata": {
        "id": "wz2Ey6-Ol-gC"
      },
      "source": [
        "def gameSim(home_team, away_team):\n",
        "\n",
        "    df_home = df3[df3.team == home_team]\n",
        "    df_away = df3[df3.team == away_team]\n",
        "\n",
        "    # home_meanpts = df_home.team_score.mean()\n",
        "    # away_meanpts = df_away.team_score.mean()\n",
        "    # home_sdpts = df_home.team_score.std()\n",
        "    # away_sdpts = df_away.team_score.std()\n",
        "\n",
        "    # home_meanopp = df_home.opponent_score.mean()\n",
        "    # away_meanopp = df_away.opponent_score.mean()\n",
        "    # home_sdopp = df_home.opponent_score.std()\n",
        "    # away_sdopp = df_away.opponent_score.std()\n",
        "\n",
        "    # homeScore = int((rnd.gauss(home_meanpts,home_sdpts) + rnd.gauss(away_meanopp,away_sdopp))/2)\n",
        "    # awayScore = int((rnd.gauss(away_meanpts,away_sdpts) + rnd.gauss(home_meanopp,home_sdopp))/2)\n",
        "\n",
        "    homeScore = int(round((rnd.choice(df_home.team_score.values) + rnd.choice(df_away.opponent_score.values))/2))\n",
        "    awayScore = int(round((rnd.choice(df_away.team_score.values) + rnd.choice(df_home.opponent_score.values))/2))\n",
        "\n",
        "    if homeScore > awayScore:\n",
        "        return {'res': 1,\n",
        "                'homeScore': homeScore,\n",
        "                'awayScore': awayScore}\n",
        "    elif int(round(homeScore)) < int(round(awayScore)):\n",
        "        return {'res': -1,\n",
        "                'homeScore': homeScore,\n",
        "                'awayScore': awayScore}\n",
        "    else:\n",
        "        return {'res': 0,\n",
        "                'homeScore': homeScore,\n",
        "                'awayScore': awayScore}"
      ],
      "execution_count": 20,
      "outputs": []
    },
    {
      "cell_type": "code",
      "metadata": {
        "id": "AeS-gsbcm7J1"
      },
      "source": [
        "def gamesSim(home_team, away_team, ns, p=False):\n",
        "    gamesout = []\n",
        "    game_res = []\n",
        "    team1win = 0\n",
        "    team2win = 0\n",
        "    tie = 0\n",
        "    Result = namedtuple(\"Result\", \"homeScore awayScore\")\n",
        "    for i in range(ns):\n",
        "        game = gameSim(home_team, away_team)\n",
        "        gm = game['res']\n",
        "        gamesout.append(gm)\n",
        "        gr = Result(game['homeScore'], game['awayScore'])\n",
        "        game_res.append(gr)\n",
        "        if gm == 1:\n",
        "            team1win +=1 \n",
        "        elif gm == -1:\n",
        "            team2win +=1\n",
        "        else: tie +=1 \n",
        "    if p:\n",
        "        print(home_team + ' Win ', team1win/(team1win+team2win+tie)*100,'%')\n",
        "        print(away_team + ' Win ', team2win/(team1win+team2win+tie)*100,'%')\n",
        "        print('Tie ', tie/(team1win+team2win+tie)*100, '%')\n",
        "    frequency = Counter(game_res)\n",
        "    return frequency.most_common()\n",
        "    # return game_res"
      ],
      "execution_count": 21,
      "outputs": []
    },
    {
      "cell_type": "code",
      "metadata": {
        "colab": {
          "base_uri": "https://localhost:8080/"
        },
        "id": "Av3qs35AnOkT",
        "outputId": "df22759d-2a39-4cdc-e5b2-0ef430b2c059"
      },
      "source": [
        "gamesSim('Argentina', 'Paraguay', 100)"
      ],
      "execution_count": 22,
      "outputs": [
        {
          "output_type": "execute_result",
          "data": {
            "text/plain": [
              "[(Result(homeScore=2, awayScore=0), 21),\n",
              " (Result(homeScore=2, awayScore=1), 20),\n",
              " (Result(homeScore=2, awayScore=2), 11),\n",
              " (Result(homeScore=0, awayScore=0), 8),\n",
              " (Result(homeScore=0, awayScore=1), 8),\n",
              " (Result(homeScore=1, awayScore=2), 6),\n",
              " (Result(homeScore=1, awayScore=0), 4),\n",
              " (Result(homeScore=1, awayScore=1), 4),\n",
              " (Result(homeScore=0, awayScore=2), 3),\n",
              " (Result(homeScore=4, awayScore=0), 3),\n",
              " (Result(homeScore=3, awayScore=2), 3),\n",
              " (Result(homeScore=4, awayScore=1), 2),\n",
              " (Result(homeScore=3, awayScore=1), 2),\n",
              " (Result(homeScore=4, awayScore=2), 2),\n",
              " (Result(homeScore=3, awayScore=0), 2),\n",
              " (Result(homeScore=6, awayScore=2), 1)]"
            ]
          },
          "metadata": {
            "tags": []
          },
          "execution_count": 22
        }
      ]
    },
    {
      "cell_type": "code",
      "metadata": {
        "colab": {
          "base_uri": "https://localhost:8080/"
        },
        "id": "BHKEUfzfW1PM",
        "outputId": "0ad19e01-42b1-46e3-dd6c-2db9213341a0"
      },
      "source": [
        "gamesSim('Argentina', 'Peru', 1)"
      ],
      "execution_count": 23,
      "outputs": [
        {
          "output_type": "execute_result",
          "data": {
            "text/plain": [
              "[(Result(homeScore=3, awayScore=0), 1)]"
            ]
          },
          "metadata": {
            "tags": []
          },
          "execution_count": 23
        }
      ]
    },
    {
      "cell_type": "code",
      "metadata": {
        "colab": {
          "base_uri": "https://localhost:8080/"
        },
        "id": "Ty8dq_MaW9oV",
        "outputId": "7df6db80-826b-4a82-a82b-923532dd4b30"
      },
      "source": [
        "gamesSim('Argentina', 'Venezuela', 1)"
      ],
      "execution_count": 24,
      "outputs": [
        {
          "output_type": "execute_result",
          "data": {
            "text/plain": [
              "[(Result(homeScore=1, awayScore=0), 1)]"
            ]
          },
          "metadata": {
            "tags": []
          },
          "execution_count": 24
        }
      ]
    },
    {
      "cell_type": "code",
      "metadata": {
        "colab": {
          "base_uri": "https://localhost:8080/"
        },
        "id": "yRlFba3jXOAa",
        "outputId": "ac177894-3fe7-4143-c9ec-b0fd4eb1f324"
      },
      "source": [
        "gamesSim('Argentina', 'Brazil', 1)"
      ],
      "execution_count": 27,
      "outputs": [
        {
          "output_type": "execute_result",
          "data": {
            "text/plain": [
              "[(Result(homeScore=0, awayScore=2), 1)]"
            ]
          },
          "metadata": {
            "tags": []
          },
          "execution_count": 27
        }
      ]
    }
  ]
}